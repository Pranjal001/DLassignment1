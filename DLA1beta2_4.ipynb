{
  "cells": [
    {
      "cell_type": "markdown",
      "metadata": {
        "id": "view-in-github",
        "colab_type": "text"
      },
      "source": [
        "<a href=\"https://colab.research.google.com/github/Pranjal001/DLassignment1/blob/main/DLA1beta2_4.ipynb\" target=\"_parent\"><img src=\"https://colab.research.google.com/assets/colab-badge.svg\" alt=\"Open In Colab\"/></a>"
      ]
    },
    {
      "cell_type": "code",
      "execution_count": 1,
      "metadata": {
        "colab": {
          "base_uri": "https://localhost:8080/"
        },
        "id": "q5VObxtubRC5",
        "outputId": "df8bda04-a03c-4452-c6b4-c9f1e70a657f"
      },
      "outputs": [
        {
          "output_type": "stream",
          "name": "stdout",
          "text": [
            "Collecting wandb\n",
            "  Downloading wandb-0.16.4-py3-none-any.whl (2.2 MB)\n",
            "\u001b[2K     \u001b[90m━━━━━━━━━━━━━━━━━━━━━━━━━━━━━━━━━━━━━━━━\u001b[0m \u001b[32m2.2/2.2 MB\u001b[0m \u001b[31m7.3 MB/s\u001b[0m eta \u001b[36m0:00:00\u001b[0m\n",
            "\u001b[?25hRequirement already satisfied: Click!=8.0.0,>=7.1 in /usr/local/lib/python3.10/dist-packages (from wandb) (8.1.7)\n",
            "Collecting GitPython!=3.1.29,>=1.0.0 (from wandb)\n",
            "  Downloading GitPython-3.1.42-py3-none-any.whl (195 kB)\n",
            "\u001b[2K     \u001b[90m━━━━━━━━━━━━━━━━━━━━━━━━━━━━━━━━━━━━━━━━\u001b[0m \u001b[32m195.4/195.4 kB\u001b[0m \u001b[31m10.2 MB/s\u001b[0m eta \u001b[36m0:00:00\u001b[0m\n",
            "\u001b[?25hRequirement already satisfied: requests<3,>=2.0.0 in /usr/local/lib/python3.10/dist-packages (from wandb) (2.31.0)\n",
            "Requirement already satisfied: psutil>=5.0.0 in /usr/local/lib/python3.10/dist-packages (from wandb) (5.9.5)\n",
            "Collecting sentry-sdk>=1.0.0 (from wandb)\n",
            "  Downloading sentry_sdk-1.42.0-py2.py3-none-any.whl (263 kB)\n",
            "\u001b[2K     \u001b[90m━━━━━━━━━━━━━━━━━━━━━━━━━━━━━━━━━━━━━━━━\u001b[0m \u001b[32m263.5/263.5 kB\u001b[0m \u001b[31m9.3 MB/s\u001b[0m eta \u001b[36m0:00:00\u001b[0m\n",
            "\u001b[?25hCollecting docker-pycreds>=0.4.0 (from wandb)\n",
            "  Downloading docker_pycreds-0.4.0-py2.py3-none-any.whl (9.0 kB)\n",
            "Requirement already satisfied: PyYAML in /usr/local/lib/python3.10/dist-packages (from wandb) (6.0.1)\n",
            "Collecting setproctitle (from wandb)\n",
            "  Downloading setproctitle-1.3.3-cp310-cp310-manylinux_2_5_x86_64.manylinux1_x86_64.manylinux_2_17_x86_64.manylinux2014_x86_64.whl (30 kB)\n",
            "Requirement already satisfied: setuptools in /usr/local/lib/python3.10/dist-packages (from wandb) (67.7.2)\n",
            "Requirement already satisfied: appdirs>=1.4.3 in /usr/local/lib/python3.10/dist-packages (from wandb) (1.4.4)\n",
            "Requirement already satisfied: protobuf!=4.21.0,<5,>=3.19.0 in /usr/local/lib/python3.10/dist-packages (from wandb) (3.20.3)\n",
            "Requirement already satisfied: six>=1.4.0 in /usr/local/lib/python3.10/dist-packages (from docker-pycreds>=0.4.0->wandb) (1.16.0)\n",
            "Collecting gitdb<5,>=4.0.1 (from GitPython!=3.1.29,>=1.0.0->wandb)\n",
            "  Downloading gitdb-4.0.11-py3-none-any.whl (62 kB)\n",
            "\u001b[2K     \u001b[90m━━━━━━━━━━━━━━━━━━━━━━━━━━━━━━━━━━━━━━━━\u001b[0m \u001b[32m62.7/62.7 kB\u001b[0m \u001b[31m7.1 MB/s\u001b[0m eta \u001b[36m0:00:00\u001b[0m\n",
            "\u001b[?25hRequirement already satisfied: charset-normalizer<4,>=2 in /usr/local/lib/python3.10/dist-packages (from requests<3,>=2.0.0->wandb) (3.3.2)\n",
            "Requirement already satisfied: idna<4,>=2.5 in /usr/local/lib/python3.10/dist-packages (from requests<3,>=2.0.0->wandb) (3.6)\n",
            "Requirement already satisfied: urllib3<3,>=1.21.1 in /usr/local/lib/python3.10/dist-packages (from requests<3,>=2.0.0->wandb) (2.0.7)\n",
            "Requirement already satisfied: certifi>=2017.4.17 in /usr/local/lib/python3.10/dist-packages (from requests<3,>=2.0.0->wandb) (2024.2.2)\n",
            "Collecting smmap<6,>=3.0.1 (from gitdb<5,>=4.0.1->GitPython!=3.1.29,>=1.0.0->wandb)\n",
            "  Downloading smmap-5.0.1-py3-none-any.whl (24 kB)\n",
            "Installing collected packages: smmap, setproctitle, sentry-sdk, docker-pycreds, gitdb, GitPython, wandb\n",
            "Successfully installed GitPython-3.1.42 docker-pycreds-0.4.0 gitdb-4.0.11 sentry-sdk-1.42.0 setproctitle-1.3.3 smmap-5.0.1 wandb-0.16.4\n"
          ]
        }
      ],
      "source": [
        "!pip install wandb"
      ]
    },
    {
      "cell_type": "code",
      "execution_count": 2,
      "metadata": {
        "colab": {
          "base_uri": "https://localhost:8080/"
        },
        "id": "0h9xh87ZbrRV",
        "outputId": "198a3139-19e7-4f6a-d74b-bf1486326ca8"
      },
      "outputs": [
        {
          "output_type": "stream",
          "name": "stdout",
          "text": [
            "\u001b[34m\u001b[1mwandb\u001b[0m: Appending key for api.wandb.ai to your netrc file: /root/.netrc\n"
          ]
        }
      ],
      "source": [
        "import wandb\n",
        "!wandb login '9a5ccd0848378e80e2abf8c49fbe7f9d7c5e0b10'"
      ]
    },
    {
      "cell_type": "code",
      "execution_count": 3,
      "metadata": {
        "colab": {
          "base_uri": "https://localhost:8080/",
          "height": 699
        },
        "id": "5GMUAqQ4u63y",
        "outputId": "0470d2ff-a5fa-41df-a2bf-57932be756d8"
      },
      "outputs": [
        {
          "output_type": "stream",
          "name": "stdout",
          "text": [
            "Downloading data from https://storage.googleapis.com/tensorflow/tf-keras-datasets/train-labels-idx1-ubyte.gz\n",
            "29515/29515 [==============================] - 0s 0us/step\n",
            "Downloading data from https://storage.googleapis.com/tensorflow/tf-keras-datasets/train-images-idx3-ubyte.gz\n",
            "26421880/26421880 [==============================] - 0s 0us/step\n",
            "Downloading data from https://storage.googleapis.com/tensorflow/tf-keras-datasets/t10k-labels-idx1-ubyte.gz\n",
            "5148/5148 [==============================] - 0s 0us/step\n",
            "Downloading data from https://storage.googleapis.com/tensorflow/tf-keras-datasets/t10k-images-idx3-ubyte.gz\n",
            "4422102/4422102 [==============================] - 0s 0us/step\n"
          ]
        },
        {
          "output_type": "display_data",
          "data": {
            "text/plain": [
              "<Figure size 1200x600 with 10 Axes>"
            ],
            "image/png": "[encoded data removed]"
          },
          "metadata": {}
        }
      ],
      "source": [
        "import numpy as np\n",
        "import matplotlib.pyplot as plt\n",
        "from keras.datasets import fashion_mnist , mnist\n",
        "from sklearn.model_selection import train_test_split\n",
        "import argparse\n",
        "\n",
        "\n",
        "# wandb.init(project=\"DL_assignment_1\", name = \"Question - 1\")\n",
        "\n",
        "# Load the Fashion-MNIST dataset\n",
        "(x_train, y_train), (x_test,y_test) = fashion_mnist.load_data()\n",
        "\n",
        "\n",
        "# Define class labels\n",
        "class_labels = {\n",
        "    0: 'T-shirt',\n",
        "    1: 'Trouser',\n",
        "    2: 'Pullover',\n",
        "    3: 'Dress',\n",
        "    4: 'Coat',\n",
        "    5: 'Sandal',\n",
        "    6: 'Shirt',\n",
        "    7: 'Sneaker',\n",
        "    8: 'Bag',\n",
        "    9: 'boot'\n",
        "}\n",
        "\n",
        "# Plot one sample image for each class\n",
        "fig, axes = plt.subplots(2, 5, figsize=(12, 6))\n",
        "axes = axes.ravel()\n",
        "\n",
        "for i in range(10):\n",
        "    # Find the first image of current class\n",
        "    idx = np.where(y_train == i)[0][0]\n",
        "    # Plot the image\n",
        "    axes[i].imshow(x_train[idx], cmap='gray')\n",
        "    axes[i].set_title(class_labels[i])\n",
        "    axes[i].axis('off')\n",
        "\n",
        "    images = wandb.Image(axes[i], caption=y_train[i])\n",
        "    # wandb.log({\"Question 1\": images})\n",
        "\n",
        "plt.tight_layout()\n",
        "# plt.show()\n",
        "\n",
        "#x_train.shape\n"
      ]
    },
    {
      "cell_type": "markdown",
      "metadata": {
        "id": "MYXcdT7v8YXG"
      },
      "source": [
        "Question 2 : implement a feed forward network\n",
        "\n",
        "\n"
      ]
    },
    {
      "cell_type": "code",
      "execution_count": 15,
      "metadata": {
        "id": "ewJzAhX-8di5"
      },
      "outputs": [],
      "source": [
        "# ~~~~~~~~~~~~~~~~~~~~~~~~~~~~~~~~~~~~~~~~~~~~~~~~~~~~~~~~~~~~~ NEURAL NETWORK ~~~~~~~~~~~~~~~~~~~~~~~~~~~~~~~~~~~~~~~~~~~~~~~~~~~~~~\n",
        "class NeuralNet:\n",
        "  def __init__(self, par):\n",
        "\n",
        "    #defining required paramters within this class\n",
        "    self.layer_data = {}\n",
        "    self.epoch = par['epochs']\n",
        "    self.hiddenlayers = par['hidden_layers']\n",
        "    self.hiddenlayer_size = par['hidden_layer_size']\n",
        "    self.inputSize = par['input_size']\n",
        "    self.outputSize = par['output_size']\n",
        "    self.eta = par['learning_rate']\n",
        "    self.beta = par['beta']\n",
        "    self.momentum = par['momentum']\n",
        "    self.beta1 = par['beta1']\n",
        "    self.beta2 = par['beta2']\n",
        "    self.epsilon = par['epsilon']\n",
        "    self.optimizer = par['optimizer']\n",
        "    self.batch = par['batch_size']\n",
        "    self.activation = par['activation']\n",
        "    self.initialiser = par['initialiser']\n",
        "    self.weight_decay = par['weight_decay']\n",
        "    self.loss_type = par['loss_type']\n",
        "    self.a = {}\n",
        "    self.h = {}\n",
        "    self.dw = {}\n",
        "    self.db = {}\n",
        "\n",
        "    L = self.hiddenlayers + 1 # 1- input L - hidden 1 - output\n",
        "    self.layer_data[1] = weightsAndBiasLayer(self.inputSize,self.hiddenlayer_size,self.initialiser)\n",
        "\n",
        "    for i in range(2 , L): # 2 , 3,\n",
        "      self.layer_data[i] = weightsAndBiasLayer(self.hiddenlayer_size,self.hiddenlayer_size,self.initialiser)\n",
        "\n",
        "    self.layer_data[L] = weightsAndBiasLayer(self.hiddenlayer_size,self.outputSize,self.initialiser)\n",
        "\n",
        "\n",
        "\n",
        "\n",
        "\n",
        "  def forwardpropagate(self,x):\n",
        "\n",
        "    self.h[0] = x\n",
        "    L  = len(self.layer_data)\n",
        "    for i in range(1, L):\n",
        "      self.a[i] = self.layer_data[i].forwarding(self.h[i-1])\n",
        "      self.h[i] = self.layer_data[i].activation_function(self.activation, self.a[i])\n",
        "    self.a[L] = self.layer_data[L].forwarding(self.h[L-1])\n",
        "    y_pred = self.layer_data[L].activation_function('softmax',self.a[L])\n",
        "    return y_pred\n",
        "\n",
        "  def backwardpropagate(self, y_pred, y_true):\n",
        "\n",
        "    op_error = y_pred - y_true\n",
        "    L = len(self.layer_data)\n",
        "    n = len(y_pred)\n",
        "\n",
        "    for i in range(L, 1, -1):\n",
        "      self.dw[i] = np.dot(self.h[i-1].T,op_error) /n\n",
        "      self.db[i] = np.sum(op_error, axis=0, keepdims=True)/n\n",
        "\n",
        "      grad_layer = np.dot(op_error , self.layer_data[i].weights.T)\n",
        "      op_error = grad_layer * self.layer_data[i-1].diff_function(self.activation,self.a[i-1])\n",
        "\n",
        "    # 1\n",
        "    self.dw[1] = np.dot(self.h[0].T,op_error)/n\n",
        "    self.db[1] = np.sum(op_error, axis=0, keepdims=True)/n\n",
        "\n",
        "\n",
        "\n",
        "# ~~~~~~~~~~~~~~~~~~~~~~~~~~~~~~~~~~~~~~~~~~~~ LAYER CLASS ~~~~~~~~~~~~~~~~~~~~~~~~~~~~~~~~~~~~~~~~~~~~~~~~~~~~~~~~~~~~~~~~~~~~~~~~~~~~~~~~~~~~~~~\n",
        "class weightsAndBiasLayer:\n",
        "\n",
        "  def __init__(self,lowlayer,upperlayer,initialiser):\n",
        "\n",
        "    if(initialiser == 'random'):\n",
        "      self.weights = np.random.randn(lowlayer,upperlayer)\n",
        "      self.bias = np.random.randn(1,upperlayer)\n",
        "    if(initialiser == 'Xaviar'):\n",
        "      variance = 6.0 / (lowlayer + upperlayer)\n",
        "      stddev = np.sqrt(variance)\n",
        "      self.weights = np.random.randn(lowlayer,upperlayer)*stddev\n",
        "      self.bias = np.random.randn(1,upperlayer)*stddev\n",
        "\n",
        "\n",
        "    # self.weights = np.arange(1,lowlayer*upperlayer + 1).reshape(lowlayer, upperlayer)/1.0\n",
        "    # self.bias = np.arange(1, 1*upperlayer+1).reshape(1, upperlayer)/1.0\n",
        "    #self.weights = np.zeros((lowlayer,upperlayer))\n",
        "    # self.bias = np.zeros((1,upperlayer))\n",
        "\n",
        "  def forwarding(self,x):\n",
        "    return np.dot(x,self.weights) + self.bias\n",
        "\n",
        "#-----------------------------------------------------------------------------------\n",
        "\n",
        "  def activation_function(self,func_type,x):\n",
        "    if(func_type == 'sigmoid'):\n",
        "      return self.sigmoid(x)\n",
        "    elif(func_type == 'softmax'):\n",
        "      return self.softmax(x)\n",
        "    if(func_type == 'tanh'):\n",
        "      return self.tanh(x)\n",
        "    if(func_type == 'reLu'):\n",
        "      return self.reLu(x)\n",
        "    if(func_type == 'identity'):\n",
        "      return self.identity\n",
        "\n",
        "\n",
        "  def sigmoid(self,input):\n",
        "    #input = np.clip(input, 1e-15 , 1.-(1e-15))\n",
        "    return 1.0/(1.0 + np.exp(-input))\n",
        "    # sigmoid_x = np.zeros_like(input)\n",
        "    # positive_mask = input >= 0\n",
        "    # sigmoid_x[positive_mask] = 1.0 / (1.0 + np.exp(-input[positive_mask]))\n",
        "    # sigmoid_x[~positive_mask] = np.exp(input[~positive_mask]) / (1.0 + np.exp(input[~positive_mask]))\n",
        "    # return sigmoid_x\n",
        "\n",
        "  def softmax(self,x):\n",
        "    exp_vals = np.exp(x - np.max(x, axis=-1 , keepdims = True))\n",
        "    softmax_vals = exp_vals / np.sum(exp_vals, axis=-1 , keepdims = True)\n",
        "    return softmax_vals\n",
        "\n",
        "  def tanh(self,x):\n",
        "\n",
        "    tan_res =np.tanh(x)\n",
        "    return tan_res\n",
        "\n",
        "  def reLu(self,x):\n",
        "\n",
        "    return np.maximum(0,x)\n",
        "\n",
        "  def identity(self,x):\n",
        "    return x\n",
        "\n",
        "#-----------------------------------------------------------------------------------\n",
        "  def diff_function(self,func_type,x):\n",
        "    if(func_type == 'sigmoid'):\n",
        "      return self.diff_sig(x)\n",
        "    if(func_type == 'tanh'):\n",
        "      return self.diff_tanh(x)\n",
        "    if(func_type == 'reLu'):\n",
        "      return self.diff_reLu(x)\n",
        "    if(func_type == 'identity'):\n",
        "      return self.diff_identity(x)\n",
        "\n",
        "  def diff_sig(self, x):\n",
        "    func = self.sigmoid(x)\n",
        "    return func*(1-func)\n",
        "\n",
        "  def diff_tanh(self,x):\n",
        "    func = self.tanh(x)\n",
        "    return 1 - func**2\n",
        "\n",
        "  def diff_reLu(self,x):\n",
        "    return np.where(x <= 0, 0, 1)\n",
        "\n",
        "  def diff_identity(self,x):\n",
        "    return 1.0\n",
        "\n",
        "#------------------------------------------optimisers-----------------------------------------\n",
        "class optimisation_functions:\n",
        "\n",
        "  def __init__(self,neural_net,opt_func,eta_par,beta_par,momentum_par,epsilon,beta1,beta2,weight_decay):\n",
        "    self.opt_type = opt_func\n",
        "    self.neural_net = neural_net\n",
        "    self.eta = eta_par\n",
        "    self.beta = beta_par\n",
        "    self.momentum = momentum_par\n",
        "    self.beta1 = beta1\n",
        "    self.beta2 = beta2\n",
        "    self.epsilon = epsilon\n",
        "    self.decay = weight_decay\n",
        "    self.u_wt = {}\n",
        "    self.u_b = {}\n",
        "    self.vw = {}\n",
        "    self.vb = {}\n",
        "    self.mw = {}\n",
        "    self.mb = {}\n",
        "    self.mcap_w = {}\n",
        "    self.mcap_b = {}\n",
        "    self.vcap_w = {}\n",
        "    self.vcap_b = {}\n",
        "    self.mform_w = {}\n",
        "    self.mform_b = {}\n",
        "    self.t = 1\n",
        "\n",
        "\n",
        "  def update_rule(self):\n",
        "    if(self.opt_type == 'sgd'):\n",
        "      self.sgd()\n",
        "    if(self.opt_type == 'mgd'):\n",
        "      self.mgd()\n",
        "    if(self.opt_type == 'nag'):\n",
        "      self.nag()\n",
        "    if(self.opt_type == 'rmsprop'):\n",
        "      self.rms_prop()\n",
        "    if(self.opt_type == 'adam'):\n",
        "      self.adam()\n",
        "    if(self.opt_type == 'nadam'):\n",
        "      self.nadam()\n",
        "\n",
        "\n",
        "  def sgd(self):\n",
        "\n",
        "    for i in range(1, len(self.neural_net.layer_data) + 1):\n",
        "      self.neural_net.dw[i] += self.neural_net.layer_data[i].weights*self.decay\n",
        "      self.neural_net.layer_data[i].weights -= (self.eta*self.neural_net.dw[i])\n",
        "      self.neural_net.layer_data[i].bias -= (self.eta*self.neural_net.db[i])\n",
        "\n",
        "  def mgd(self):\n",
        "    if(len(self.u_wt)  == 0 ):\n",
        "      self.u_wt = self.neural_net.dw\n",
        "      self.u_b = self.neural_net.db\n",
        "\n",
        "    for i in range(1,len(self.neural_net.layer_data)+1):\n",
        "\n",
        "      self.neural_net.dw[i] += self.neural_net.layer_data[i].weights*self.decay\n",
        "      self.u_wt[i] = self.momentum * self.u_wt[i] + self.neural_net.dw[i]\n",
        "      self.u_b[i] = self.momentum * self.u_b[i] + self.neural_net.db[i]\n",
        "      self.neural_net.layer_data[i].weights -= self.eta*self.u_wt[i]\n",
        "      self.neural_net.layer_data[i].bias -= self.eta*self.u_b[i]\n",
        "\n",
        "  def nag(self):\n",
        "\n",
        "    if(len(self.vw )== 0):\n",
        "      for i in range(1,len(self.neural_net.layer_data)+1):\n",
        "\n",
        "        self.vw[i] = np.zeros(self.neural_net.dw[i].shape)\n",
        "        self.vb[i] = np.zeros(self.neural_net.db[i].shape)\n",
        "\n",
        "    for i in range(1,len(self.neural_net.layer_data)+1):\n",
        "\n",
        "      self.neural_net.dw[i] += self.neural_net.layer_data[i].weights*self.decay\n",
        "      self.vw[i] = self.beta * self.vw[i] + self.neural_net.dw[i]\n",
        "      self.vb[i] = self.beta * self.vb[i] + self.neural_net.db[i]\n",
        "\n",
        "      self.neural_net.layer_data[i].weights -= self.eta*(self.vw[i] + self.neural_net.dw[i])\n",
        "      self.neural_net.layer_data[i].bias -= self.eta*(self.vb[i] + self.neural_net.db[i])\n",
        "\n",
        "  def rms_prop(self):\n",
        "\n",
        "    if(len(self.vw )== 0):\n",
        "      for i in range(1,len(self.neural_net.layer_data)+1):\n",
        "\n",
        "        self.vw[i] = (self.neural_net.dw[i]**2)\n",
        "        self.vb[i] = (self.neural_net.db[i]**2)\n",
        "\n",
        "    for i in range(1,len(self.neural_net.layer_data)+1):\n",
        "\n",
        "      self.neural_net.dw[i] += self.neural_net.layer_data[i].weights*self.decay\n",
        "\n",
        "      self.vw[i] = self.beta * self.vw[i] + (1 - self.beta)*(self.neural_net.dw[i]**2)\n",
        "      self.vb[i] = self.beta * self.vb[i] + (1 - self.beta)*(self.neural_net.db[i]**2)\n",
        "\n",
        "      self.neural_net.layer_data[i].weights -= (self.eta/np.sqrt(self.vw[i] + self.epsilon))*(self.vw[i] + self.neural_net.dw[i])\n",
        "      self.neural_net.layer_data[i].bias -= (self.eta/np.sqrt(self.vb[i] + self.epsilon))*(self.vb[i] + self.neural_net.db[i])\n",
        "\n",
        "  def adam(self):\n",
        "\n",
        "    if(len(self.vw )== 0):\n",
        "      for i in range(1,len(self.neural_net.layer_data)+1):\n",
        "\n",
        "        self.vw[i] = (self.neural_net.dw[i]**2)\n",
        "        self.vb[i] = (self.neural_net.db[i]**2)\n",
        "\n",
        "    if(len(self.mw )== 0):\n",
        "      for i in range(1,len(self.neural_net.layer_data)+1):\n",
        "\n",
        "        self.mw[i] = (self.neural_net.dw[i])\n",
        "        self.mb[i] = (self.neural_net.db[i])\n",
        "\n",
        "    for i in range(1,len(self.neural_net.layer_data)+1):\n",
        "\n",
        "      self.neural_net.dw[i] += self.neural_net.layer_data[i].weights*self.decay\n",
        "\n",
        "      self.mw[i] = self.beta1 * self.mw[i] + (1 - self.beta1)*(self.neural_net.dw[i])\n",
        "      self.mb[i] = self.beta1 * self.mb[i] + (1 - self.beta1)*(self.neural_net.db[i])\n",
        "\n",
        "      self.mcap_w[i] = self.mw[i] / (1 - self.beta1**self.t)\n",
        "      self.mcap_b[i] = self.mb[i] / (1 - self.beta1**self.t)\n",
        "\n",
        "      self.vw[i] = self.beta2 * self.vw[i] + (1 - self.beta2)*(self.neural_net.dw[i]**2)\n",
        "      self.vb[i] = self.beta2 * self.vb[i] + (1 - self.beta2)*(self.neural_net.db[i]**2)\n",
        "\n",
        "      self.vcap_w[i] = self.vw[i] / (1 - self.beta2**self.t)\n",
        "      self.vcap_b[i] = self.vb[i] / (1 - self.beta2**self.t)\n",
        "\n",
        "      self.neural_net.layer_data[i].weights -= (self.eta/np.sqrt(self.vcap_w[i] + self.epsilon))*(self.mcap_w[i])\n",
        "      self.neural_net.layer_data[i].bias -= (self.eta/np.sqrt(self.vcap_b[i] + self.epsilon))*(self.mcap_b[i])\n",
        "\n",
        "    self.t += 1\n",
        "\n",
        "  def nadam(self):\n",
        "\n",
        "    if(len(self.vw )== 0):\n",
        "      for i in range(1,len(self.neural_net.layer_data)+1):\n",
        "\n",
        "        self.vw[i] = (self.neural_net.dw[i]**2)\n",
        "        self.vb[i] = (self.neural_net.db[i]**2)\n",
        "\n",
        "    if(len(self.mw )== 0):\n",
        "      for i in range(1,len(self.neural_net.layer_data)+1):\n",
        "\n",
        "        self.mw[i] = (self.neural_net.dw[i])\n",
        "        self.mb[i] = (self.neural_net.db[i])\n",
        "\n",
        "    for i in range(1,len(self.neural_net.layer_data)+1):\n",
        "\n",
        "      self.neural_net.dw[i] += self.neural_net.layer_data[i].weights*self.decay\n",
        "\n",
        "      self.mw[i] = self.beta1 * self.mw[i] + (1 - self.beta1)*(self.neural_net.dw[i])\n",
        "      self.mb[i] = self.beta1 * self.mb[i] + (1 - self.beta1)*(self.neural_net.db[i])\n",
        "\n",
        "      self.mcap_w[i] = self.mw[i] / (1 - self.beta1**self.t)\n",
        "      self.mcap_b[i] = self.mb[i] / (1 - self.beta1**self.t)\n",
        "\n",
        "      self.vw[i] = self.beta2 * self.vw[i] + (1 - self.beta2)*(self.neural_net.dw[i]**2)\n",
        "      self.vb[i] = self.beta2 * self.vb[i] + (1 - self.beta2)*(self.neural_net.db[i]**2)\n",
        "\n",
        "      self.vcap_w[i] = self.vw[i] / (1 - self.beta2**self.t)\n",
        "      self.vcap_b[i] = self.vb[i] / (1 - self.beta2**self.t)\n",
        "\n",
        "      self.mform_w[i] = self.beta1 * self.mcap_w[i] + (1 - self.beta1)*self.neural_net.dw[i]\n",
        "      self.mform_b[i] = self.beta1 * self.mcap_b[i] + (1 - self.beta1)*self.neural_net.db[i]\n",
        "\n",
        "      self.neural_net.layer_data[i].weights -= (self.eta/np.sqrt(self.vcap_w[i] + self.epsilon))*(self.mform_w[i])\n",
        "      self.neural_net.layer_data[i].bias -= (self.eta/np.sqrt(self.vcap_b[i] + self.epsilon))*(self.mform_b[i])\n",
        "\n",
        "    self.t += 1\n",
        "\n",
        "\n",
        "\n",
        "#=============================================================================================\n",
        "\n",
        "\n",
        "class super_neural:\n",
        "\n",
        "  def __init__(self,parameters,X_train, Y_train, X_test, Y_test,x_val , y_val):\n",
        "    self.nn = NeuralNet(parameters)\n",
        "    self.opt_call = opt_call = optimisation_functions(self.nn,self.nn.optimizer,self.nn.eta,self.nn.beta,self.nn.momentum,self.nn.epsilon,self.nn.beta1,self.nn.beta2,self.nn.weight_decay)\n",
        "    self.train_neural(X_train, Y_train, X_test, Y_test , x_val , y_val)\n",
        "\n",
        "\n",
        "  def cross_entropy(self, y_true, y_pred):\n",
        "    y_pred = np.clip(y_pred, 1e-15, 1. - 1e-15)\n",
        "    loss = -np.sum(y_true * np.log(y_pred), axis=1)\n",
        "    loss = np.mean(loss)\n",
        "    return loss\n",
        "\n",
        "  def mean_squared_error(self,true_values, predicted_values):\n",
        "\n",
        "    squared_errors = 0.5*(true_values - predicted_values) ** 2\n",
        "    mse = np.mean(squared_errors)\n",
        "\n",
        "    return mse\n",
        "\n",
        "\n",
        "  def accuracy(self,y_true ,y_pred):\n",
        "    pred = np.argmax(y_pred, axis=1)\n",
        "    true = np.argmax(y_true, axis=1)\n",
        "    predict = np.sum(pred == true)\n",
        "    return (predict/len(pred))*100\n",
        "\n",
        "\n",
        "  def loss_call(self,y_true, y_pred):\n",
        "    if( self.nn.loss_type == 'mse'):\n",
        "      return self.mean_squared_error(y_true, y_pred)\n",
        "    if( self.nn.loss_type == 'cross_entropy'):\n",
        "      return self.cross_entropy(y_true, y_pred)\n",
        "\n",
        "  def plot_confusion_matrix(self,true_labels, predicted_labels):\n",
        "\n",
        "    classes = ['T-shirt','Trouser','Pullover','Dress','Coat','Sandal','Shirt','Sneaker','Bag','boot']\n",
        "    # Compute confusion matrix\n",
        "    true_labels = np.argmax(true_labels, axis=1)\n",
        "    predicted_labels = np.argmax(predicted_labels, axis=1)\n",
        "    num_classes = len(classes)\n",
        "    confusion_matrix = np.zeros((num_classes, num_classes), dtype=int)\n",
        "    for i in range(len(true_labels)):\n",
        "        true_class = true_labels[i]\n",
        "        predicted_class = predicted_labels[i]\n",
        "        confusion_matrix[int(true_class)][int(predicted_class)] += 1\n",
        "\n",
        "    # Plot confusion matrix\n",
        "    plt.figure(figsize=(9, 11))\n",
        "    plt.imshow(confusion_matrix, interpolation='nearest', cmap=\"twilight_shifted\")\n",
        "    plt.title('Confusion Matrix')\n",
        "    plt.colorbar()\n",
        "    tick_marks = np.arange(len(classes))\n",
        "    plt.xticks(tick_marks, classes)\n",
        "    plt.yticks(tick_marks, classes)\n",
        "\n",
        "    thresh = confusion_matrix.max() / 2.\n",
        "    for i in range(num_classes):\n",
        "        for j in range(num_classes):\n",
        "            plt.text(j, i, format(confusion_matrix[i, j], 'd'),\n",
        "                     horizontalalignment=\"center\",\n",
        "                     color=\"black\" if confusion_matrix[i, j] > thresh else \"white\")\n",
        "\n",
        "    plt.ylabel('True label')\n",
        "    plt.xlabel('Predicted label')\n",
        "    plt.tight_layout()\n",
        "    plt.show()\n",
        "\n",
        "\n",
        "  def train_neural(self, X_train, Y_train , X_test ,Y_test,x_val , y_val):\n",
        "\n",
        "    for epochit in range(self.nn.epoch):\n",
        "\n",
        "      for batch_beg in range(0,len(X_train),self.nn.batch):\n",
        "\n",
        "        batch_end = batch_beg+self.nn.batch\n",
        "        input_data = X_train[batch_beg:batch_end]\n",
        "        output_data = Y_train[batch_beg:batch_end]\n",
        "\n",
        "        # print(\"INPUT:\",input_data)\n",
        "        y_pred = self.nn.forwardpropagate(input_data)\n",
        "        # print(\"Output:\",y_pred)\n",
        "        self.nn.backwardpropagate(y_pred, output_data)\n",
        "        self.opt_call.update_rule()\n",
        "\n",
        "      y_pred = self.nn.forwardpropagate(X_train)\n",
        "      y_pred_test = self.nn.forwardpropagate(X_test)\n",
        "      y_pred_val = self.nn.forwardpropagate(x_val)\n",
        "      print(f\"Epoch : {epochit + 1} Loss : {self.loss_call(Y_train, y_pred)} Accuracy : {self.accuracy(Y_train, y_pred)}\")\n",
        "      print(\"------------------------------------------------------------------------------------------------------------------------------\")\n",
        "      print(f\"            Validation  Loss : {self.loss_call(y_val, y_pred_val)} Accuracy : {self.accuracy(y_val, y_pred_val)}\")\n",
        "      print(\"===============================================================================================================================\")\n",
        "      wandb.log({'epoch':epochit + 1, 'train_loss': self.loss_call(y_val, y_pred_val), 'train_accuracy': self.accuracy(y_val, y_pred_val), 'val_loss': self.cross_entropy(y_val, y_pred_val), 'val_accuracy': self.accuracy(y_val, y_pred_val)})\n",
        "\n",
        "\n",
        "\n",
        "\n"
      ]
    },
    {
      "cell_type": "markdown",
      "metadata": {
        "id": "_At_uS93D8Uu"
      },
      "source": [
        "main\n"
      ]
    },
    {
      "cell_type": "code",
      "execution_count": 16,
      "metadata": {
        "id": "0zdbfEglD69N"
      },
      "outputs": [],
      "source": [
        "  # parameters = {\n",
        "  # 'epochs' : 32, #number of epochs\n",
        "  # 'hidden_layers' : 3, #hidden layers neuron count and number of hidden layers\n",
        "  # 'hidden_layer_size' : 32,\n",
        "  # 'input_size' : 784,\n",
        "  # 'output_size' : 10,\n",
        "  # 'learning_rate' : 0.001, #eta\n",
        "  # 'beta' : 0.9,  #beta\n",
        "  # 'beta1' : 0.9,\n",
        "  # 'beta2' : 0.99,\n",
        "  # 'epsilon' : 1e-8,\n",
        "  # 'optimizer' : 'adam', #type of optimizer such as sgd,nadam,nag,\n",
        "  # 'batch_size' : 16, #16,32\n",
        "  # 'initialiser' : 'random', #random,xaviar\n",
        "  # 'activation' : 'sigmoid', #type of actvation\n",
        "  # 'weight_decay' : 0,\n",
        "  # }\n",
        "\n",
        "\n",
        "sweep_config = {\n",
        "    'name' : \"sweep_ok\",\n",
        "    'method': 'random'\n",
        "    }\n",
        "\n",
        "parameters_sweep = {\n",
        "  'epochs' : {'values' : [5,10] } , #number of epochs ,15\n",
        "  'hidden_layers' : {'values' : [4,5] } , #hidden layers neuron count and number of hidden layers\n",
        "  'hidden_layer_size' : {'values' : [32,64,128] } ,\n",
        "  'input_size' : {'values' : [784] } ,\n",
        "  'output_size' : {'values' : [10] } ,\n",
        "  'learning_rate' : {'values' : [0.0005,0.0008] } , #eta\n",
        "  'momentum' : {'values' : [0.9,0.5]}, #beta for momentum\n",
        "  'beta' : {'values' : [0.9,0.5] } ,  #beta for rms\n",
        "  'beta1' : {'values' : [0.9,0.999] },\n",
        "  'beta2' : {'values' : [0.999] },\n",
        "  'epsilon' : {'values' : [1e-8,1e-6] },\n",
        "  'optimizer' : {'values' : ['mgd','sgd','nag','rmsprop','adam','nadam'] }, #type of optimizer such as sgd,nadam,nag,\n",
        "  'batch_size' : {'values' : [32,64,128] }, #16,32\n",
        "  'initialiser' : {'values' : ['Xaviar','random'] }, #random,xaviar\n",
        "  'activation' : {'values' : ['sigmoid'] }, #type of actvation ,'tanh','reLu'\n",
        "  'weight_decay' : {'values' : [0.0, 1e-6]},\n",
        "  'loss_type' : {'values' : ['cross_entropy','mse']}, #, 'cross_entropy'\n",
        "  'dataset' : {'values' : ['fashion_mnist']} #mnist\n",
        "  }\n",
        "\n",
        "\n",
        "metric = {\n",
        "    'name' : 'Accuracy',\n",
        "    'goal' : 'maximize'\n",
        "}\n",
        "\n",
        "sweep_config['metric'] = metric\n",
        "\n",
        "sweep_config['parameters'] = parameters_sweep\n"
      ]
    },
    {
      "cell_type": "code",
      "source": [
        "def dataset_selector(dataset):\n",
        "  if(dataset == 'mnist'):\n",
        "      (x_train, y_train), (x_test,y_test) = mnist.load_data()\n",
        "      x_train, x_val, y_train, y_val = train_test_split(x_train, y_train, test_size=0.1, random_state=42)\n",
        "  else:\n",
        "    (x_train, y_train), (x_test,y_test) = fashion_mnist.load_data()\n",
        "    x_train, x_val, y_train, y_val = train_test_split(x_train, y_train, test_size=0.1, random_state=42)\n",
        "\n",
        "  return x_train,y_train,x_val,y_val\n",
        "\n"
      ],
      "metadata": {
        "id": "EIXAAHzgsLkf"
      },
      "execution_count": 12,
      "outputs": []
    },
    {
      "cell_type": "code",
      "source": [
        "parser = argparse.ArgumentParser()\n",
        "\n",
        "parser.add_argument('-wp' , '--wandb_project', help='Project name used to track experiments in Weights & Biases dashboard' , type=str, default='DL_Assignment_1')\n",
        "parser.add_argument('-we', '--wandb_entity' , help='Wandb Entity used to track experiments in the Weights & Biases dashboard.' , type=str, default='cs23m049')\n",
        "parser.add_argument('-d', '--dataset', help='choices: [\"mnist\", \"fashion_mnist\"]', choices = [\"mnist\", \"fashion_mnist\"],type=str, default='fashion_mnist')\n",
        "parser.add_argument('-e', '--epochs', help=\"Number of epochs to train neural network.\", type=int, default=10)\n",
        "parser.add_argument('-b', '--batch_size', help=\"Batch size used to train neural network.\", type=int, default=64)\n",
        "parser.add_argument('-l','--loss', help = 'choices: [\"mean_squared_error\", \"cross_entropy\"]' , choices = [\"mean_squared_error\", \"cross_entropy\"],type=str, default='cross_entropy')\n",
        "parser.add_argument('-o', '--optimizer', help = 'choices: [\"sgd\", \"momentum\", \"nag\", \"rmsprop\", \"adam\", \"nadam\"]', choices = [\"sgd\", \"momentum\", \"nag\", \"rmsprop\", \"adam\", \"nadam\"],type=str, default = 'adam')\n",
        "parser.add_argument('-lr', '--learning_rate', help = 'Learning rate used to optimize model parameters', type=float, default=0.0005)\n",
        "parser.add_argument('-m', '--momentum', help='Momentum used by momentum and nag optimizers.',type=float, default=0.9)\n",
        "parser.add_argument('-beta', '--beta', help='Beta used by rmsprop optimizer',type=float, default=0.9)\n",
        "parser.add_argument('-beta1', '--beta1', help='Beta1 used by adam and nadam optimizers.',type=float, default=0.9)\n",
        "parser.add_argument('-beta2', '--beta2', help='Beta2 used by adam and nadam optimizers.',type=float, default=0.999)\n",
        "parser.add_argument('-eps', '--epsilon', help='Epsilon used by optimizers.',type=float, default=1e-8)\n",
        "parser.add_argument('-w_d', '--weight_decay', help='Weight decay used by optimizers.',type=float, default=0.0005)\n",
        "parser.add_argument('-w_i', '--weight_init', help = 'choices: [\"random\", \"Xavier\"]', choices = [\"random\", \"Xavier\"],type=str, default='Xavier')\n",
        "parser.add_argument('-nhl', '--num_layers', help='Number of hidden layers used in feedforward neural network.',type=int, default=4)\n",
        "parser.add_argument('-sz', '--hidden_size', help ='Number of hidden neurons in a feedforward layer.', type=int, default=128)\n",
        "parser.add_argument('-a', '--activation', help='choices: [\"identity\", \"sigmoid\", \"tanh\", \"ReLU\"]', choices = [\"identity\", \"sigmoid\", \"tanh\", \"ReLU\"],type=str, default='ReLU')\n",
        "parser.add_argument('-wl', '--wandb_log', help=\"To log training metrics on wandb.\", type=int, default=1)\n",
        "parser.add_argument('-cm', '--confusion_matrix', help=\"Plot Confusion Matrix on wandb.\", type=int, default=0)\n",
        "\n",
        "arguments = parser.parse_args()\n",
        "\n",
        "# Create Run\n",
        "if arguments.wandb_log == 1:\n",
        "\n",
        "  wandb.init(project = arguments.wandb_project, name = arguments.wandb_entity)\n",
        "\n",
        "parameters = {\n",
        "                'dataset' : arguments.dataset,\n",
        "                'epochs': arguments.epochs,\n",
        "                'batch_size': arguments.batch_size,\n",
        "                'loss_type': arguments.loss, # \"mean_squared_error\", \"cross_entropy\"\n",
        "                'optimizer': arguments.optimizer, # \"sgd\", \"momentum\", \"nag\", \"rmsprop\", \"adam\", \"nadam\"\n",
        "                'learning_rate': arguments.learning_rate,\n",
        "                'momentum': arguments.momentum,\n",
        "                'beta': arguments.beta,\n",
        "                'beta1': arguments.beta1,\n",
        "                'beta2': arguments.beta2,\n",
        "                'epsilon': arguments.epsilon,\n",
        "                'weight_decay': arguments.weight_decay,\n",
        "                'initialiser': arguments.weight_init, # \"random\", \"Xavier\"\n",
        "                'hidden_layers': arguments.num_layers,\n",
        "                'hidden_layer_size': arguments.hidden_size,\n",
        "                'activation': arguments.activation, # \"identity\", \"sigmoid\", \"tanh\", \"ReLU\"\n",
        "                'input_size' : 768,\n",
        "                'output_size' : 10,\n",
        "                  }\n"
      ],
      "metadata": {
        "id": "HBwxtwDe5RhA"
      },
      "execution_count": null,
      "outputs": []
    },
    {
      "cell_type": "code",
      "execution_count": 13,
      "metadata": {
        "id": "hiprXNh6bngp"
      },
      "outputs": [],
      "source": [
        "def main():\n",
        "    def reshape_1D(data):\n",
        "      return data.reshape(data.shape[0],-1)/255.0\n",
        "\n",
        "    def one_hot_vector(y):\n",
        "      hot_vectors = np.zeros((len(y), 10))  # Initialize array with zeros\n",
        "      hot_vectors[np.arange(len(y)), y] = 1  # Set the corresponding index to 1 for each one-hot vector\n",
        "      return hot_vectors\n",
        "\n",
        "    param = wandb.init(project=\"DL_assignment_1\")\n",
        "    wandb.run.name = (\n",
        "        \":ep-\" + str(param.config.epochs) +\n",
        "        \":h-\" + str(param.config.hidden_layers) +\n",
        "        \":bs-\" + str(param.config.batch_size) +\n",
        "        \":opt-\" + param.config.optimizer +\n",
        "        \":a-\" + param.config.activation +\n",
        "        \":wi-\" + param.config.initialiser +\n",
        "        \":d-\" + str(param.config.weight_decay) +\n",
        "        \":eta-\" + str(param.config.learning_rate) +\n",
        "        \":b-\" + str( param.config.beta)\n",
        "    )\n",
        "    parameters = {\n",
        "      'epochs' : param.config.epochs, #number of epochs\n",
        "      'hidden_layers' : param.config.hidden_layers, #hidden layers neuron count and number of hidden layers\n",
        "      'hidden_layer_size' : param.config.hidden_layer_size,\n",
        "      'input_size' : param.config.input_size,\n",
        "      'output_size' : param.config.output_size,\n",
        "      'learning_rate' : param.config.learning_rate, #eta\n",
        "      'momentum' : param.config.momentum,\n",
        "      'beta' : param.config.beta,  #beta\n",
        "      'beta1' : param.config.beta1,\n",
        "      'beta2' : param.config.beta2,\n",
        "      'epsilon' : param.config.epsilon,\n",
        "      'optimizer' : param.config.optimizer, #type of optimizer such as sgd,nadam,nag,\n",
        "      'batch_size' : param.config.batch_size, #16,32\n",
        "      'initialiser' : param.config.initialiser, #random,xaviar\n",
        "      'activation' : param.config.activation, #type of actvation\n",
        "      'weight_decay' : param.config.weight_decay,\n",
        "      'loss_type' : param.config.loss_type,\n",
        "      'dataset' : param.config.dataset,\n",
        "      }\n",
        "\n",
        "\n",
        "\n",
        "#data preprocessing and dataset selection\n",
        "\n",
        "    x_train,y_train,x_val,y_val = dataset_selector(parameters['dataset'])\n",
        "\n",
        "    X_train = reshape_1D(x_train)\n",
        "    Y_train = one_hot_vector(y_train)\n",
        "    X_test = reshape_1D(x_test)\n",
        "    Y_test = one_hot_vector(y_test)\n",
        "    X_val = reshape_1D(x_val)\n",
        "    Y_val = one_hot_vector(y_val)\n",
        "\n",
        "#model creation for the neural network and generating logs for accuracy along with confusion matrix\n",
        "\n",
        "    model = super_neural(parameters,X_train, Y_train, X_test, Y_test,X_val , Y_val)\n",
        "    y_pred_val = model.nn.forwardpropagate(X_val)\n",
        "    y_pred_test = model.nn.forwardpropagate(X_test)\n",
        "    acc_val = model.accuracy(y_pred_val , Y_val)\n",
        "    wandb.log({'Accuracy': acc_val})\n",
        "    #  model.plot_confusion_matrix(y_pred_test,Y_test)\n",
        "\n",
        "\n",
        "  #   if arguments.confusion_matrix == 1:\n",
        "  #     model.plot_confusion_matrix(y_pred_test,Y_test)\n",
        "\n",
        "  # # log files\n",
        "  #   if arguments.wandb_log == 1:\n",
        "  #     wandb.log({'Accuracy': acc_val})\n"
      ]
    },
    {
      "cell_type": "code",
      "execution_count": 17,
      "metadata": {
        "colab": {
          "base_uri": "https://localhost:8080/",
          "height": 1000,
          "referenced_widgets": [
            "c66d93bec6eb498b869762e33c170ed3",
            "941e816ac62c4a098c1635a9ecb22897",
            "9b63d8169d5a49a2a9d012d6606e4f84",
            "75a4447730c346ea8afa83f48724ddaa",
            "148e0cbf8dad475d8ea7aa34dde46e13",
            "a3fb09669bac478db154c852765f74db",
            "50e958aba4154099ab291ce198933947",
            "375dade11699481db6b76bc1a2b63c71",
            "454492e92c774ee1a72763bf88c6a57e",
            "aba560e0e330497bb6390c9e3ca7eeae",
            "815798cff6414173954708dca616f3f7",
            "ae4c94b8dccf49f7ac3ad6ee37066469",
            "64c0bcf74dea445a85299b88d1da59f3",
            "ddd421385c0048e2954631df8d4d6ee8",
            "85f3dd3c66f643959887c975ff070302",
            "9add50363b7d4d28959af5368c3efe48",
            "fbc404d134e84dae8d9e946b0fe18679",
            "99e9239c85544d528f4a49ccd529ac0f",
            "bbed4e88486948e396495d04e0466040",
            "4a7a767116734fc0933dcf1d8d26a0d5",
            "ef7515e4f8ee43349a6d2325a6b35cc3",
            "3a6372db6589415bb78bcb6874218624",
            "6585a5f2e92d401d8e5e6600f32dfbc7",
            "4b1c2ad4d2a1482daea4fcc5572774b2",
            "4584bc099c2c4bf58c23142e4360fc35",
            "4f514fb75fe34bc8b1c74a56bc3f2c68",
            "b05f19b331ab4a58abf8b2880ecf35ef",
            "327f20b92d2b41aaa2892b69ce7487f8",
            "35fb11b682964b85a130528b21416cd0",
            "b421ec7295ed43c39cf35538d09cbd59",
            "f4bca29bf5ba4de684852cb59cd3cda1",
            "16fda7f3bb2048ef9b0be406a07064c5",
            "10cef5c217f14912b7457ad75165f867",
            "c21ddabc61954ecd8bc24c6449f9e9b7",
            "5f774734f1c24ce08b3bd74cf383187c",
            "2ac62b529da047bcb4eaef3dbae523b6",
            "c1c213ccc7a643bab0c7bce593c04eda",
            "938679d4549e4d2fbb4e9fa2002ca386",
            "83e38afd6e3b44af871cabb755991e5c",
            "bbf20faf57a84c9a8f3af3d15e348cc2"
          ]
        },
        "id": "MgTVZxp1W_Jx",
        "outputId": "f885231d-16b1-485a-8866-6b514365e242"
      },
      "outputs": [
        {
          "output_type": "stream",
          "name": "stdout",
          "text": [
            "Create sweep with ID: 6ahxc55b\n",
            "Sweep URL: https://wandb.ai/ml_panda/DL_assignment_1/sweeps/6ahxc55b\n"
          ]
        },
        {
          "output_type": "stream",
          "name": "stderr",
          "text": [
            "\u001b[34m\u001b[1mwandb\u001b[0m: Agent Starting Run: smkoioc9 with config:\n",
            "\u001b[34m\u001b[1mwandb\u001b[0m: \tactivation: sigmoid\n",
            "\u001b[34m\u001b[1mwandb\u001b[0m: \tbatch_size: 64\n",
            "\u001b[34m\u001b[1mwandb\u001b[0m: \tbeta: 0.9\n",
            "\u001b[34m\u001b[1mwandb\u001b[0m: \tbeta1: 0.999\n",
            "\u001b[34m\u001b[1mwandb\u001b[0m: \tbeta2: 0.999\n",
            "\u001b[34m\u001b[1mwandb\u001b[0m: \tdataset: fashion_mnist\n",
            "\u001b[34m\u001b[1mwandb\u001b[0m: \tepochs: 5\n",
            "\u001b[34m\u001b[1mwandb\u001b[0m: \tepsilon: 1e-06\n",
            "\u001b[34m\u001b[1mwandb\u001b[0m: \thidden_layer_size: 128\n",
            "\u001b[34m\u001b[1mwandb\u001b[0m: \thidden_layers: 4\n",
            "\u001b[34m\u001b[1mwandb\u001b[0m: \tinitialiser: Xaviar\n",
            "\u001b[34m\u001b[1mwandb\u001b[0m: \tinput_size: 784\n",
            "\u001b[34m\u001b[1mwandb\u001b[0m: \tlearning_rate: 0.0005\n",
            "\u001b[34m\u001b[1mwandb\u001b[0m: \tloss_type: cross_entropy\n",
            "\u001b[34m\u001b[1mwandb\u001b[0m: \tmomentum: 0.5\n",
            "\u001b[34m\u001b[1mwandb\u001b[0m: \toptimizer: adam\n",
            "\u001b[34m\u001b[1mwandb\u001b[0m: \toutput_size: 10\n",
            "\u001b[34m\u001b[1mwandb\u001b[0m: \tweight_decay: 0\n",
            "\u001b[34m\u001b[1mwandb\u001b[0m: \u001b[33mWARNING\u001b[0m Ignored wandb.init() arg project when running a sweep.\n"
          ]
        },
        {
          "output_type": "display_data",
          "data": {
            "text/plain": [
              "<IPython.core.display.HTML object>"
            ],
            "text/html": [
              "Tracking run with wandb version 0.16.4"
            ]
          },
          "metadata": {}
        },
        {
          "output_type": "display_data",
          "data": {
            "text/plain": [
              "<IPython.core.display.HTML object>"
            ],
            "text/html": [
              "Run data is saved locally in <code>/content/wandb/run-20240315_172548-smkoioc9</code>"
            ]
          },
          "metadata": {}
        },
        {
          "output_type": "display_data",
          "data": {
            "text/plain": [
              "<IPython.core.display.HTML object>"
            ],
            "text/html": [
              "Syncing run <strong><a href='https://wandb.ai/ml_panda/DL_assignment_1/runs/smkoioc9' target=\"_blank\">easy-sweep-1</a></strong> to <a href='https://wandb.ai/ml_panda/DL_assignment_1' target=\"_blank\">Weights & Biases</a> (<a href='https://wandb.me/run' target=\"_blank\">docs</a>)<br/>Sweep page: <a href='https://wandb.ai/ml_panda/DL_assignment_1/sweeps/6ahxc55b' target=\"_blank\">https://wandb.ai/ml_panda/DL_assignment_1/sweeps/6ahxc55b</a>"
            ]
          },
          "metadata": {}
        },
        {
          "output_type": "display_data",
          "data": {
            "text/plain": [
              "<IPython.core.display.HTML object>"
            ],
            "text/html": [
              " View project at <a href='https://wandb.ai/ml_panda/DL_assignment_1' target=\"_blank\">https://wandb.ai/ml_panda/DL_assignment_1</a>"
            ]
          },
          "metadata": {}
        },
        {
          "output_type": "display_data",
          "data": {
            "text/plain": [
              "<IPython.core.display.HTML object>"
            ],
            "text/html": [
              " View sweep at <a href='https://wandb.ai/ml_panda/DL_assignment_1/sweeps/6ahxc55b' target=\"_blank\">https://wandb.ai/ml_panda/DL_assignment_1/sweeps/6ahxc55b</a>"
            ]
          },
          "metadata": {}
        },
        {
          "output_type": "display_data",
          "data": {
            "text/plain": [
              "<IPython.core.display.HTML object>"
            ],
            "text/html": [
              " View run at <a href='https://wandb.ai/ml_panda/DL_assignment_1/runs/smkoioc9' target=\"_blank\">https://wandb.ai/ml_panda/DL_assignment_1/runs/smkoioc9</a>"
            ]
          },
          "metadata": {}
        },
        {
          "output_type": "stream",
          "name": "stdout",
          "text": [
            "Epoch : 1 Loss : 9.801207535966565 Accuracy : 10.024074074074074\n",
            "------------------------------------------------------------------------------------------------------------------------------\n",
            "            Validation  Loss : 9.920051372160295 Accuracy : 9.783333333333333\n",
            "===============================================================================================================================\n",
            "Epoch : 2 Loss : 8.795085196849687 Accuracy : 9.985185185185186\n",
            "------------------------------------------------------------------------------------------------------------------------------\n",
            "            Validation  Loss : 8.891304888071476 Accuracy : 10.133333333333333\n",
            "===============================================================================================================================\n",
            "Epoch : 3 Loss : 6.676234536836734 Accuracy : 10.018518518518519\n",
            "------------------------------------------------------------------------------------------------------------------------------\n",
            "            Validation  Loss : 6.783047766841788 Accuracy : 9.833333333333332\n",
            "===============================================================================================================================\n",
            "Epoch : 4 Loss : 3.7028575749675685 Accuracy : 10.005555555555555\n",
            "------------------------------------------------------------------------------------------------------------------------------\n",
            "            Validation  Loss : 3.737147250060258 Accuracy : 9.950000000000001\n",
            "===============================================================================================================================\n",
            "Epoch : 5 Loss : 2.9899086880518073 Accuracy : 9.964814814814815\n",
            "------------------------------------------------------------------------------------------------------------------------------\n",
            "            Validation  Loss : 2.9826420275329584 Accuracy : 10.316666666666666\n",
            "===============================================================================================================================\n"
          ]
        },
        {
          "output_type": "display_data",
          "data": {
            "text/plain": [
              "VBox(children=(Label(value='0.013 MB of 0.013 MB uploaded\\r'), FloatProgress(value=1.0, max=1.0)))"
            ],
            "application/vnd.jupyter.widget-view+json": {
              "version_major": 2,
              "version_minor": 0,
              "model_id": "c66d93bec6eb498b869762e33c170ed3"
            }
          },
          "metadata": {}
        },
        {
          "output_type": "display_data",
          "data": {
            "text/plain": [
              "<IPython.core.display.HTML object>"
            ],
            "text/html": [
              "<style>\n",
              "    table.wandb td:nth-child(1) { padding: 0 10px; text-align: left ; width: auto;} td:nth-child(2) {text-align: left ; width: 100%}\n",
              "    .wandb-row { display: flex; flex-direction: row; flex-wrap: wrap; justify-content: flex-start; width: 100% }\n",
              "    .wandb-col { display: flex; flex-direction: column; flex-basis: 100%; flex: 1; padding: 10px; }\n",
              "    </style>\n",
              "<div class=\"wandb-row\"><div class=\"wandb-col\"><h3>Run history:</h3><br/><table class=\"wandb\"><tr><td>Accuracy</td><td>▁</td></tr><tr><td>epoch</td><td>▁▃▅▆█</td></tr><tr><td>train_accuracy</td><td>▁▆▂▃█</td></tr><tr><td>train_loss</td><td>█▇▅▂▁</td></tr><tr><td>val_accuracy</td><td>▁▆▂▃█</td></tr><tr><td>val_loss</td><td>█▇▅▂▁</td></tr></table><br/></div><div class=\"wandb-col\"><h3>Run summary:</h3><br/><table class=\"wandb\"><tr><td>Accuracy</td><td>10.31667</td></tr><tr><td>epoch</td><td>5</td></tr><tr><td>train_accuracy</td><td>10.31667</td></tr><tr><td>train_loss</td><td>2.98264</td></tr><tr><td>val_accuracy</td><td>10.31667</td></tr><tr><td>val_loss</td><td>2.98264</td></tr></table><br/></div></div>"
            ]
          },
          "metadata": {}
        },
        {
          "output_type": "display_data",
          "data": {
            "text/plain": [
              "<IPython.core.display.HTML object>"
            ],
            "text/html": [
              " View run <strong style=\"color:#cdcd00\">easy-sweep-1</strong> at: <a href='https://wandb.ai/ml_panda/DL_assignment_1/runs/smkoioc9' target=\"_blank\">https://wandb.ai/ml_panda/DL_assignment_1/runs/smkoioc9</a><br/>Synced 5 W&B file(s), 0 media file(s), 0 artifact file(s) and 0 other file(s)"
            ]
          },
          "metadata": {}
        },
        {
          "output_type": "display_data",
          "data": {
            "text/plain": [
              "<IPython.core.display.HTML object>"
            ],
            "text/html": [
              "Find logs at: <code>./wandb/run-20240315_172548-smkoioc9/logs</code>"
            ]
          },
          "metadata": {}
        },
        {
          "output_type": "stream",
          "name": "stderr",
          "text": [
            "\u001b[34m\u001b[1mwandb\u001b[0m: Agent Starting Run: n5oif8mj with config:\n",
            "\u001b[34m\u001b[1mwandb\u001b[0m: \tactivation: sigmoid\n",
            "\u001b[34m\u001b[1mwandb\u001b[0m: \tbatch_size: 32\n",
            "\u001b[34m\u001b[1mwandb\u001b[0m: \tbeta: 0.9\n",
            "\u001b[34m\u001b[1mwandb\u001b[0m: \tbeta1: 0.9\n",
            "\u001b[34m\u001b[1mwandb\u001b[0m: \tbeta2: 0.999\n",
            "\u001b[34m\u001b[1mwandb\u001b[0m: \tdataset: fashion_mnist\n",
            "\u001b[34m\u001b[1mwandb\u001b[0m: \tepochs: 10\n",
            "\u001b[34m\u001b[1mwandb\u001b[0m: \tepsilon: 1e-08\n",
            "\u001b[34m\u001b[1mwandb\u001b[0m: \thidden_layer_size: 64\n",
            "\u001b[34m\u001b[1mwandb\u001b[0m: \thidden_layers: 5\n",
            "\u001b[34m\u001b[1mwandb\u001b[0m: \tinitialiser: random\n",
            "\u001b[34m\u001b[1mwandb\u001b[0m: \tinput_size: 784\n",
            "\u001b[34m\u001b[1mwandb\u001b[0m: \tlearning_rate: 0.0008\n",
            "\u001b[34m\u001b[1mwandb\u001b[0m: \tloss_type: cross_entropy\n",
            "\u001b[34m\u001b[1mwandb\u001b[0m: \tmomentum: 0.5\n",
            "\u001b[34m\u001b[1mwandb\u001b[0m: \toptimizer: nag\n",
            "\u001b[34m\u001b[1mwandb\u001b[0m: \toutput_size: 10\n",
            "\u001b[34m\u001b[1mwandb\u001b[0m: \tweight_decay: 1e-06\n",
            "\u001b[34m\u001b[1mwandb\u001b[0m: \u001b[33mWARNING\u001b[0m Ignored wandb.init() arg project when running a sweep.\n"
          ]
        },
        {
          "output_type": "display_data",
          "data": {
            "text/plain": [
              "<IPython.core.display.HTML object>"
            ],
            "text/html": [
              "Tracking run with wandb version 0.16.4"
            ]
          },
          "metadata": {}
        },
        {
          "output_type": "display_data",
          "data": {
            "text/plain": [
              "<IPython.core.display.HTML object>"
            ],
            "text/html": [
              "Run data is saved locally in <code>/content/wandb/run-20240315_172643-n5oif8mj</code>"
            ]
          },
          "metadata": {}
        },
        {
          "output_type": "display_data",
          "data": {
            "text/plain": [
              "<IPython.core.display.HTML object>"
            ],
            "text/html": [
              "Syncing run <strong><a href='https://wandb.ai/ml_panda/DL_assignment_1/runs/n5oif8mj' target=\"_blank\">generous-sweep-2</a></strong> to <a href='https://wandb.ai/ml_panda/DL_assignment_1' target=\"_blank\">Weights & Biases</a> (<a href='https://wandb.me/run' target=\"_blank\">docs</a>)<br/>Sweep page: <a href='https://wandb.ai/ml_panda/DL_assignment_1/sweeps/6ahxc55b' target=\"_blank\">https://wandb.ai/ml_panda/DL_assignment_1/sweeps/6ahxc55b</a>"
            ]
          },
          "metadata": {}
        },
        {
          "output_type": "display_data",
          "data": {
            "text/plain": [
              "<IPython.core.display.HTML object>"
            ],
            "text/html": [
              " View project at <a href='https://wandb.ai/ml_panda/DL_assignment_1' target=\"_blank\">https://wandb.ai/ml_panda/DL_assignment_1</a>"
            ]
          },
          "metadata": {}
        },
        {
          "output_type": "display_data",
          "data": {
            "text/plain": [
              "<IPython.core.display.HTML object>"
            ],
            "text/html": [
              " View sweep at <a href='https://wandb.ai/ml_panda/DL_assignment_1/sweeps/6ahxc55b' target=\"_blank\">https://wandb.ai/ml_panda/DL_assignment_1/sweeps/6ahxc55b</a>"
            ]
          },
          "metadata": {}
        },
        {
          "output_type": "display_data",
          "data": {
            "text/plain": [
              "<IPython.core.display.HTML object>"
            ],
            "text/html": [
              " View run at <a href='https://wandb.ai/ml_panda/DL_assignment_1/runs/n5oif8mj' target=\"_blank\">https://wandb.ai/ml_panda/DL_assignment_1/runs/n5oif8mj</a>"
            ]
          },
          "metadata": {}
        },
        {
          "output_type": "stream",
          "name": "stdout",
          "text": [
            "Epoch : 1 Loss : 1.3447982892199717 Accuracy : 54.13703703703704\n",
            "------------------------------------------------------------------------------------------------------------------------------\n",
            "            Validation  Loss : 1.350845863215904 Accuracy : 53.65\n",
            "===============================================================================================================================\n",
            "Epoch : 2 Loss : 1.0755738680612659 Accuracy : 62.99629629629629\n",
            "------------------------------------------------------------------------------------------------------------------------------\n",
            "            Validation  Loss : 1.087918807243609 Accuracy : 62.083333333333336\n",
            "===============================================================================================================================\n",
            "Epoch : 3 Loss : 0.955008521125395 Accuracy : 66.3962962962963\n",
            "------------------------------------------------------------------------------------------------------------------------------\n",
            "            Validation  Loss : 0.9709332398253434 Accuracy : 65.73333333333333\n",
            "===============================================================================================================================\n",
            "Epoch : 4 Loss : 0.8856791588685681 Accuracy : 68.43703703703704\n",
            "------------------------------------------------------------------------------------------------------------------------------\n",
            "            Validation  Loss : 0.9023891662584819 Accuracy : 68.10000000000001\n",
            "===============================================================================================================================\n",
            "Epoch : 5 Loss : 0.8379055438162191 Accuracy : 70.04259259259258\n",
            "------------------------------------------------------------------------------------------------------------------------------\n",
            "            Validation  Loss : 0.854356984162455 Accuracy : 69.56666666666666\n",
            "===============================================================================================================================\n",
            "Epoch : 6 Loss : 0.802027320883668 Accuracy : 71.2537037037037\n",
            "------------------------------------------------------------------------------------------------------------------------------\n",
            "            Validation  Loss : 0.8180401107372431 Accuracy : 70.81666666666668\n",
            "===============================================================================================================================\n",
            "Epoch : 7 Loss : 0.7734985934514169 Accuracy : 72.23333333333333\n",
            "------------------------------------------------------------------------------------------------------------------------------\n",
            "            Validation  Loss : 0.7898069773522359 Accuracy : 71.51666666666667\n",
            "===============================================================================================================================\n",
            "Epoch : 8 Loss : 0.7500707882736612 Accuracy : 73.08518518518518\n",
            "------------------------------------------------------------------------------------------------------------------------------\n",
            "            Validation  Loss : 0.7670803849896477 Accuracy : 72.35000000000001\n",
            "===============================================================================================================================\n",
            "Epoch : 9 Loss : 0.7306929476439338 Accuracy : 73.78518518518518\n",
            "------------------------------------------------------------------------------------------------------------------------------\n",
            "            Validation  Loss : 0.7484769888899476 Accuracy : 73.01666666666667\n",
            "===============================================================================================================================\n",
            "Epoch : 10 Loss : 0.7142759916013407 Accuracy : 74.27037037037037\n",
            "------------------------------------------------------------------------------------------------------------------------------\n",
            "            Validation  Loss : 0.732884983333414 Accuracy : 73.53333333333333\n",
            "===============================================================================================================================\n"
          ]
        },
        {
          "output_type": "display_data",
          "data": {
            "text/plain": [
              "VBox(children=(Label(value='0.001 MB of 0.001 MB uploaded\\r'), FloatProgress(value=1.0, max=1.0)))"
            ],
            "application/vnd.jupyter.widget-view+json": {
              "version_major": 2,
              "version_minor": 0,
              "model_id": "454492e92c774ee1a72763bf88c6a57e"
            }
          },
          "metadata": {}
        },
        {
          "output_type": "display_data",
          "data": {
            "text/plain": [
              "<IPython.core.display.HTML object>"
            ],
            "text/html": [
              "<style>\n",
              "    table.wandb td:nth-child(1) { padding: 0 10px; text-align: left ; width: auto;} td:nth-child(2) {text-align: left ; width: 100%}\n",
              "    .wandb-row { display: flex; flex-direction: row; flex-wrap: wrap; justify-content: flex-start; width: 100% }\n",
              "    .wandb-col { display: flex; flex-direction: column; flex-basis: 100%; flex: 1; padding: 10px; }\n",
              "    </style>\n",
              "<div class=\"wandb-row\"><div class=\"wandb-col\"><h3>Run history:</h3><br/><table class=\"wandb\"><tr><td>Accuracy</td><td>▁</td></tr><tr><td>epoch</td><td>▁▂▃▃▄▅▆▆▇█</td></tr><tr><td>train_accuracy</td><td>▁▄▅▆▇▇▇███</td></tr><tr><td>train_loss</td><td>█▅▄▃▂▂▂▁▁▁</td></tr><tr><td>val_accuracy</td><td>▁▄▅▆▇▇▇███</td></tr><tr><td>val_loss</td><td>█▅▄▃▂▂▂▁▁▁</td></tr></table><br/></div><div class=\"wandb-col\"><h3>Run summary:</h3><br/><table class=\"wandb\"><tr><td>Accuracy</td><td>73.53333</td></tr><tr><td>epoch</td><td>10</td></tr><tr><td>train_accuracy</td><td>73.53333</td></tr><tr><td>train_loss</td><td>0.73288</td></tr><tr><td>val_accuracy</td><td>73.53333</td></tr><tr><td>val_loss</td><td>0.73288</td></tr></table><br/></div></div>"
            ]
          },
          "metadata": {}
        },
        {
          "output_type": "display_data",
          "data": {
            "text/plain": [
              "<IPython.core.display.HTML object>"
            ],
            "text/html": [
              " View run <strong style=\"color:#cdcd00\">generous-sweep-2</strong> at: <a href='https://wandb.ai/ml_panda/DL_assignment_1/runs/n5oif8mj' target=\"_blank\">https://wandb.ai/ml_panda/DL_assignment_1/runs/n5oif8mj</a><br/>Synced 5 W&B file(s), 0 media file(s), 0 artifact file(s) and 0 other file(s)"
            ]
          },
          "metadata": {}
        },
        {
          "output_type": "display_data",
          "data": {
            "text/plain": [
              "<IPython.core.display.HTML object>"
            ],
            "text/html": [
              "Find logs at: <code>./wandb/run-20240315_172643-n5oif8mj/logs</code>"
            ]
          },
          "metadata": {}
        },
        {
          "output_type": "stream",
          "name": "stderr",
          "text": [
            "\u001b[34m\u001b[1mwandb\u001b[0m: Sweep Agent: Waiting for job.\n",
            "\u001b[34m\u001b[1mwandb\u001b[0m: Job received.\n",
            "\u001b[34m\u001b[1mwandb\u001b[0m: Agent Starting Run: jskbx8k4 with config:\n",
            "\u001b[34m\u001b[1mwandb\u001b[0m: \tactivation: sigmoid\n",
            "\u001b[34m\u001b[1mwandb\u001b[0m: \tbatch_size: 32\n",
            "\u001b[34m\u001b[1mwandb\u001b[0m: \tbeta: 0.5\n",
            "\u001b[34m\u001b[1mwandb\u001b[0m: \tbeta1: 0.999\n",
            "\u001b[34m\u001b[1mwandb\u001b[0m: \tbeta2: 0.999\n",
            "\u001b[34m\u001b[1mwandb\u001b[0m: \tdataset: fashion_mnist\n",
            "\u001b[34m\u001b[1mwandb\u001b[0m: \tepochs: 10\n",
            "\u001b[34m\u001b[1mwandb\u001b[0m: \tepsilon: 1e-06\n",
            "\u001b[34m\u001b[1mwandb\u001b[0m: \thidden_layer_size: 32\n",
            "\u001b[34m\u001b[1mwandb\u001b[0m: \thidden_layers: 4\n",
            "\u001b[34m\u001b[1mwandb\u001b[0m: \tinitialiser: random\n",
            "\u001b[34m\u001b[1mwandb\u001b[0m: \tinput_size: 784\n",
            "\u001b[34m\u001b[1mwandb\u001b[0m: \tlearning_rate: 0.0008\n",
            "\u001b[34m\u001b[1mwandb\u001b[0m: \tloss_type: mse\n",
            "\u001b[34m\u001b[1mwandb\u001b[0m: \tmomentum: 0.5\n",
            "\u001b[34m\u001b[1mwandb\u001b[0m: \toptimizer: rmsprop\n",
            "\u001b[34m\u001b[1mwandb\u001b[0m: \toutput_size: 10\n",
            "\u001b[34m\u001b[1mwandb\u001b[0m: \tweight_decay: 0\n",
            "\u001b[34m\u001b[1mwandb\u001b[0m: \u001b[33mWARNING\u001b[0m Ignored wandb.init() arg project when running a sweep.\n"
          ]
        },
        {
          "output_type": "display_data",
          "data": {
            "text/plain": [
              "<IPython.core.display.HTML object>"
            ],
            "text/html": [
              "Tracking run with wandb version 0.16.4"
            ]
          },
          "metadata": {}
        },
        {
          "output_type": "display_data",
          "data": {
            "text/plain": [
              "<IPython.core.display.HTML object>"
            ],
            "text/html": [
              "Run data is saved locally in <code>/content/wandb/run-20240315_172801-jskbx8k4</code>"
            ]
          },
          "metadata": {}
        },
        {
          "output_type": "display_data",
          "data": {
            "text/plain": [
              "<IPython.core.display.HTML object>"
            ],
            "text/html": [
              "Syncing run <strong><a href='https://wandb.ai/ml_panda/DL_assignment_1/runs/jskbx8k4' target=\"_blank\">genial-sweep-3</a></strong> to <a href='https://wandb.ai/ml_panda/DL_assignment_1' target=\"_blank\">Weights & Biases</a> (<a href='https://wandb.me/run' target=\"_blank\">docs</a>)<br/>Sweep page: <a href='https://wandb.ai/ml_panda/DL_assignment_1/sweeps/6ahxc55b' target=\"_blank\">https://wandb.ai/ml_panda/DL_assignment_1/sweeps/6ahxc55b</a>"
            ]
          },
          "metadata": {}
        },
        {
          "output_type": "display_data",
          "data": {
            "text/plain": [
              "<IPython.core.display.HTML object>"
            ],
            "text/html": [
              " View project at <a href='https://wandb.ai/ml_panda/DL_assignment_1' target=\"_blank\">https://wandb.ai/ml_panda/DL_assignment_1</a>"
            ]
          },
          "metadata": {}
        },
        {
          "output_type": "display_data",
          "data": {
            "text/plain": [
              "<IPython.core.display.HTML object>"
            ],
            "text/html": [
              " View sweep at <a href='https://wandb.ai/ml_panda/DL_assignment_1/sweeps/6ahxc55b' target=\"_blank\">https://wandb.ai/ml_panda/DL_assignment_1/sweeps/6ahxc55b</a>"
            ]
          },
          "metadata": {}
        },
        {
          "output_type": "display_data",
          "data": {
            "text/plain": [
              "<IPython.core.display.HTML object>"
            ],
            "text/html": [
              " View run at <a href='https://wandb.ai/ml_panda/DL_assignment_1/runs/jskbx8k4' target=\"_blank\">https://wandb.ai/ml_panda/DL_assignment_1/runs/jskbx8k4</a>"
            ]
          },
          "metadata": {}
        },
        {
          "output_type": "stream",
          "name": "stdout",
          "text": [
            "Epoch : 1 Loss : 0.0191382952219484 Accuracy : 70.85925925925926\n",
            "------------------------------------------------------------------------------------------------------------------------------\n",
            "            Validation  Loss : 0.01961030472684728 Accuracy : 70.1\n",
            "===============================================================================================================================\n",
            "Epoch : 2 Loss : 0.016761945404368143 Accuracy : 75.66851851851852\n",
            "------------------------------------------------------------------------------------------------------------------------------\n",
            "            Validation  Loss : 0.017248589363086694 Accuracy : 74.98333333333333\n",
            "===============================================================================================================================\n",
            "Epoch : 3 Loss : 0.015383478168372844 Accuracy : 78.08333333333334\n",
            "------------------------------------------------------------------------------------------------------------------------------\n",
            "            Validation  Loss : 0.015844691304557495 Accuracy : 77.36666666666666\n",
            "===============================================================================================================================\n",
            "Epoch : 4 Loss : 0.014462093606687192 Accuracy : 79.64074074074074\n",
            "------------------------------------------------------------------------------------------------------------------------------\n",
            "            Validation  Loss : 0.01498054773633666 Accuracy : 78.71666666666667\n",
            "===============================================================================================================================\n",
            "Epoch : 5 Loss : 0.013756095527638295 Accuracy : 80.62962962962963\n",
            "------------------------------------------------------------------------------------------------------------------------------\n",
            "            Validation  Loss : 0.014356942735286874 Accuracy : 79.35\n",
            "===============================================================================================================================\n",
            "Epoch : 6 Loss : 0.01319626024467155 Accuracy : 81.38703703703703\n",
            "------------------------------------------------------------------------------------------------------------------------------\n",
            "            Validation  Loss : 0.01386712146827397 Accuracy : 79.96666666666667\n",
            "===============================================================================================================================\n",
            "Epoch : 7 Loss : 0.012688682082577353 Accuracy : 82.04074074074073\n",
            "------------------------------------------------------------------------------------------------------------------------------\n",
            "            Validation  Loss : 0.013389267954608904 Accuracy : 81.03333333333333\n",
            "===============================================================================================================================\n",
            "Epoch : 8 Loss : 0.012258455994068372 Accuracy : 82.59074074074074\n",
            "------------------------------------------------------------------------------------------------------------------------------\n",
            "            Validation  Loss : 0.013010251979380752 Accuracy : 81.43333333333334\n",
            "===============================================================================================================================\n",
            "Epoch : 9 Loss : 0.011943398108858288 Accuracy : 83.08888888888889\n",
            "------------------------------------------------------------------------------------------------------------------------------\n",
            "            Validation  Loss : 0.01281020690721199 Accuracy : 81.8\n",
            "===============================================================================================================================\n",
            "Epoch : 10 Loss : 0.011671139512432881 Accuracy : 83.54814814814814\n",
            "------------------------------------------------------------------------------------------------------------------------------\n",
            "            Validation  Loss : 0.012648464544901346 Accuracy : 82.05\n",
            "===============================================================================================================================\n"
          ]
        },
        {
          "output_type": "display_data",
          "data": {
            "text/plain": [
              "VBox(children=(Label(value='0.001 MB of 0.001 MB uploaded\\r'), FloatProgress(value=1.0, max=1.0)))"
            ],
            "application/vnd.jupyter.widget-view+json": {
              "version_major": 2,
              "version_minor": 0,
              "model_id": "fbc404d134e84dae8d9e946b0fe18679"
            }
          },
          "metadata": {}
        },
        {
          "output_type": "display_data",
          "data": {
            "text/plain": [
              "<IPython.core.display.HTML object>"
            ],
            "text/html": [
              "<style>\n",
              "    table.wandb td:nth-child(1) { padding: 0 10px; text-align: left ; width: auto;} td:nth-child(2) {text-align: left ; width: 100%}\n",
              "    .wandb-row { display: flex; flex-direction: row; flex-wrap: wrap; justify-content: flex-start; width: 100% }\n",
              "    .wandb-col { display: flex; flex-direction: column; flex-basis: 100%; flex: 1; padding: 10px; }\n",
              "    </style>\n",
              "<div class=\"wandb-row\"><div class=\"wandb-col\"><h3>Run history:</h3><br/><table class=\"wandb\"><tr><td>Accuracy</td><td>▁</td></tr><tr><td>epoch</td><td>▁▂▃▃▄▅▆▆▇█</td></tr><tr><td>train_accuracy</td><td>▁▄▅▆▆▇▇███</td></tr><tr><td>train_loss</td><td>█▆▄▃▃▂▂▁▁▁</td></tr><tr><td>val_accuracy</td><td>▁▄▅▆▆▇▇███</td></tr><tr><td>val_loss</td><td>█▅▄▃▃▂▂▁▁▁</td></tr></table><br/></div><div class=\"wandb-col\"><h3>Run summary:</h3><br/><table class=\"wandb\"><tr><td>Accuracy</td><td>82.05</td></tr><tr><td>epoch</td><td>10</td></tr><tr><td>train_accuracy</td><td>82.05</td></tr><tr><td>train_loss</td><td>0.01265</td></tr><tr><td>val_accuracy</td><td>82.05</td></tr><tr><td>val_loss</td><td>0.50025</td></tr></table><br/></div></div>"
            ]
          },
          "metadata": {}
        },
        {
          "output_type": "display_data",
          "data": {
            "text/plain": [
              "<IPython.core.display.HTML object>"
            ],
            "text/html": [
              " View run <strong style=\"color:#cdcd00\">genial-sweep-3</strong> at: <a href='https://wandb.ai/ml_panda/DL_assignment_1/runs/jskbx8k4' target=\"_blank\">https://wandb.ai/ml_panda/DL_assignment_1/runs/jskbx8k4</a><br/>Synced 5 W&B file(s), 0 media file(s), 0 artifact file(s) and 0 other file(s)"
            ]
          },
          "metadata": {}
        },
        {
          "output_type": "display_data",
          "data": {
            "text/plain": [
              "<IPython.core.display.HTML object>"
            ],
            "text/html": [
              "Find logs at: <code>./wandb/run-20240315_172801-jskbx8k4/logs</code>"
            ]
          },
          "metadata": {}
        },
        {
          "output_type": "stream",
          "name": "stderr",
          "text": [
            "\u001b[34m\u001b[1mwandb\u001b[0m: Agent Starting Run: ugkk4tn5 with config:\n",
            "\u001b[34m\u001b[1mwandb\u001b[0m: \tactivation: sigmoid\n",
            "\u001b[34m\u001b[1mwandb\u001b[0m: \tbatch_size: 32\n",
            "\u001b[34m\u001b[1mwandb\u001b[0m: \tbeta: 0.5\n",
            "\u001b[34m\u001b[1mwandb\u001b[0m: \tbeta1: 0.999\n",
            "\u001b[34m\u001b[1mwandb\u001b[0m: \tbeta2: 0.999\n",
            "\u001b[34m\u001b[1mwandb\u001b[0m: \tdataset: fashion_mnist\n",
            "\u001b[34m\u001b[1mwandb\u001b[0m: \tepochs: 10\n",
            "\u001b[34m\u001b[1mwandb\u001b[0m: \tepsilon: 1e-08\n",
            "\u001b[34m\u001b[1mwandb\u001b[0m: \thidden_layer_size: 32\n",
            "\u001b[34m\u001b[1mwandb\u001b[0m: \thidden_layers: 5\n",
            "\u001b[34m\u001b[1mwandb\u001b[0m: \tinitialiser: random\n",
            "\u001b[34m\u001b[1mwandb\u001b[0m: \tinput_size: 784\n",
            "\u001b[34m\u001b[1mwandb\u001b[0m: \tlearning_rate: 0.0008\n",
            "\u001b[34m\u001b[1mwandb\u001b[0m: \tloss_type: cross_entropy\n",
            "\u001b[34m\u001b[1mwandb\u001b[0m: \tmomentum: 0.5\n",
            "\u001b[34m\u001b[1mwandb\u001b[0m: \toptimizer: nag\n",
            "\u001b[34m\u001b[1mwandb\u001b[0m: \toutput_size: 10\n",
            "\u001b[34m\u001b[1mwandb\u001b[0m: \tweight_decay: 0\n",
            "\u001b[34m\u001b[1mwandb\u001b[0m: \u001b[33mWARNING\u001b[0m Ignored wandb.init() arg project when running a sweep.\n"
          ]
        },
        {
          "output_type": "display_data",
          "data": {
            "text/plain": [
              "<IPython.core.display.HTML object>"
            ],
            "text/html": [
              "Tracking run with wandb version 0.16.4"
            ]
          },
          "metadata": {}
        },
        {
          "output_type": "display_data",
          "data": {
            "text/plain": [
              "<IPython.core.display.HTML object>"
            ],
            "text/html": [
              "Run data is saved locally in <code>/content/wandb/run-20240315_172851-ugkk4tn5</code>"
            ]
          },
          "metadata": {}
        },
        {
          "output_type": "display_data",
          "data": {
            "text/plain": [
              "<IPython.core.display.HTML object>"
            ],
            "text/html": [
              "Syncing run <strong><a href='https://wandb.ai/ml_panda/DL_assignment_1/runs/ugkk4tn5' target=\"_blank\">earnest-sweep-4</a></strong> to <a href='https://wandb.ai/ml_panda/DL_assignment_1' target=\"_blank\">Weights & Biases</a> (<a href='https://wandb.me/run' target=\"_blank\">docs</a>)<br/>Sweep page: <a href='https://wandb.ai/ml_panda/DL_assignment_1/sweeps/6ahxc55b' target=\"_blank\">https://wandb.ai/ml_panda/DL_assignment_1/sweeps/6ahxc55b</a>"
            ]
          },
          "metadata": {}
        },
        {
          "output_type": "display_data",
          "data": {
            "text/plain": [
              "<IPython.core.display.HTML object>"
            ],
            "text/html": [
              " View project at <a href='https://wandb.ai/ml_panda/DL_assignment_1' target=\"_blank\">https://wandb.ai/ml_panda/DL_assignment_1</a>"
            ]
          },
          "metadata": {}
        },
        {
          "output_type": "display_data",
          "data": {
            "text/plain": [
              "<IPython.core.display.HTML object>"
            ],
            "text/html": [
              " View sweep at <a href='https://wandb.ai/ml_panda/DL_assignment_1/sweeps/6ahxc55b' target=\"_blank\">https://wandb.ai/ml_panda/DL_assignment_1/sweeps/6ahxc55b</a>"
            ]
          },
          "metadata": {}
        },
        {
          "output_type": "display_data",
          "data": {
            "text/plain": [
              "<IPython.core.display.HTML object>"
            ],
            "text/html": [
              " View run at <a href='https://wandb.ai/ml_panda/DL_assignment_1/runs/ugkk4tn5' target=\"_blank\">https://wandb.ai/ml_panda/DL_assignment_1/runs/ugkk4tn5</a>"
            ]
          },
          "metadata": {}
        },
        {
          "output_type": "stream",
          "name": "stdout",
          "text": [
            "Epoch : 1 Loss : 2.1423768840091197 Accuracy : 17.37962962962963\n",
            "------------------------------------------------------------------------------------------------------------------------------\n",
            "            Validation  Loss : 2.1414158369485072 Accuracy : 17.150000000000002\n",
            "===============================================================================================================================\n",
            "Epoch : 2 Loss : 1.9730050144783662 Accuracy : 27.394444444444442\n",
            "------------------------------------------------------------------------------------------------------------------------------\n",
            "            Validation  Loss : 1.9730144564891035 Accuracy : 26.650000000000002\n",
            "===============================================================================================================================\n",
            "Epoch : 3 Loss : 1.8521435548834928 Accuracy : 36.327777777777776\n",
            "------------------------------------------------------------------------------------------------------------------------------\n",
            "            Validation  Loss : 1.85338027447261 Accuracy : 35.46666666666667\n",
            "===============================================================================================================================\n",
            "Epoch : 4 Loss : 1.7492184105483348 Accuracy : 41.47962962962963\n",
            "------------------------------------------------------------------------------------------------------------------------------\n",
            "            Validation  Loss : 1.7516925576738895 Accuracy : 40.733333333333334\n",
            "===============================================================================================================================\n",
            "Epoch : 5 Loss : 1.6597611392182805 Accuracy : 44.77777777777778\n",
            "------------------------------------------------------------------------------------------------------------------------------\n",
            "            Validation  Loss : 1.6633003814058867 Accuracy : 44.61666666666667\n",
            "===============================================================================================================================\n",
            "Epoch : 6 Loss : 1.5807334205400834 Accuracy : 47.51481481481481\n",
            "------------------------------------------------------------------------------------------------------------------------------\n",
            "            Validation  Loss : 1.584951559255754 Accuracy : 47.13333333333333\n",
            "===============================================================================================================================\n",
            "Epoch : 7 Loss : 1.5091837719788659 Accuracy : 50.12777777777778\n",
            "------------------------------------------------------------------------------------------------------------------------------\n",
            "            Validation  Loss : 1.5137357472072812 Accuracy : 49.666666666666664\n",
            "===============================================================================================================================\n",
            "Epoch : 8 Loss : 1.4434883577449382 Accuracy : 51.90925925925926\n",
            "------------------------------------------------------------------------------------------------------------------------------\n",
            "            Validation  Loss : 1.448223026589459 Accuracy : 51.15\n",
            "===============================================================================================================================\n",
            "Epoch : 9 Loss : 1.383399114714167 Accuracy : 53.35925925925926\n",
            "------------------------------------------------------------------------------------------------------------------------------\n",
            "            Validation  Loss : 1.388329976466591 Accuracy : 52.53333333333333\n",
            "===============================================================================================================================\n",
            "Epoch : 10 Loss : 1.3292614076133007 Accuracy : 54.629629629629626\n",
            "------------------------------------------------------------------------------------------------------------------------------\n",
            "            Validation  Loss : 1.3345712530404081 Accuracy : 53.75\n",
            "===============================================================================================================================\n"
          ]
        },
        {
          "output_type": "display_data",
          "data": {
            "text/plain": [
              "VBox(children=(Label(value='0.001 MB of 0.015 MB uploaded\\r'), FloatProgress(value=0.06877792889061589, max=1.…"
            ],
            "application/vnd.jupyter.widget-view+json": {
              "version_major": 2,
              "version_minor": 0,
              "model_id": "4584bc099c2c4bf58c23142e4360fc35"
            }
          },
          "metadata": {}
        },
        {
          "output_type": "display_data",
          "data": {
            "text/plain": [
              "<IPython.core.display.HTML object>"
            ],
            "text/html": [
              "<style>\n",
              "    table.wandb td:nth-child(1) { padding: 0 10px; text-align: left ; width: auto;} td:nth-child(2) {text-align: left ; width: 100%}\n",
              "    .wandb-row { display: flex; flex-direction: row; flex-wrap: wrap; justify-content: flex-start; width: 100% }\n",
              "    .wandb-col { display: flex; flex-direction: column; flex-basis: 100%; flex: 1; padding: 10px; }\n",
              "    </style>\n",
              "<div class=\"wandb-row\"><div class=\"wandb-col\"><h3>Run history:</h3><br/><table class=\"wandb\"><tr><td>Accuracy</td><td>▁</td></tr><tr><td>epoch</td><td>▁▂▃▃▄▅▆▆▇█</td></tr><tr><td>train_accuracy</td><td>▁▃▅▆▆▇▇███</td></tr><tr><td>train_loss</td><td>█▇▆▅▄▃▃▂▁▁</td></tr><tr><td>val_accuracy</td><td>▁▃▅▆▆▇▇███</td></tr><tr><td>val_loss</td><td>█▇▆▅▄▃▃▂▁▁</td></tr></table><br/></div><div class=\"wandb-col\"><h3>Run summary:</h3><br/><table class=\"wandb\"><tr><td>Accuracy</td><td>53.75</td></tr><tr><td>epoch</td><td>10</td></tr><tr><td>train_accuracy</td><td>53.75</td></tr><tr><td>train_loss</td><td>1.33457</td></tr><tr><td>val_accuracy</td><td>53.75</td></tr><tr><td>val_loss</td><td>1.33457</td></tr></table><br/></div></div>"
            ]
          },
          "metadata": {}
        },
        {
          "output_type": "display_data",
          "data": {
            "text/plain": [
              "<IPython.core.display.HTML object>"
            ],
            "text/html": [
              " View run <strong style=\"color:#cdcd00\">earnest-sweep-4</strong> at: <a href='https://wandb.ai/ml_panda/DL_assignment_1/runs/ugkk4tn5' target=\"_blank\">https://wandb.ai/ml_panda/DL_assignment_1/runs/ugkk4tn5</a><br/>Synced 5 W&B file(s), 0 media file(s), 0 artifact file(s) and 0 other file(s)"
            ]
          },
          "metadata": {}
        },
        {
          "output_type": "display_data",
          "data": {
            "text/plain": [
              "<IPython.core.display.HTML object>"
            ],
            "text/html": [
              "Find logs at: <code>./wandb/run-20240315_172851-ugkk4tn5/logs</code>"
            ]
          },
          "metadata": {}
        },
        {
          "output_type": "stream",
          "name": "stderr",
          "text": [
            "\u001b[34m\u001b[1mwandb\u001b[0m: Agent Starting Run: 9prm94to with config:\n",
            "\u001b[34m\u001b[1mwandb\u001b[0m: \tactivation: sigmoid\n",
            "\u001b[34m\u001b[1mwandb\u001b[0m: \tbatch_size: 32\n",
            "\u001b[34m\u001b[1mwandb\u001b[0m: \tbeta: 0.5\n",
            "\u001b[34m\u001b[1mwandb\u001b[0m: \tbeta1: 0.9\n",
            "\u001b[34m\u001b[1mwandb\u001b[0m: \tbeta2: 0.999\n",
            "\u001b[34m\u001b[1mwandb\u001b[0m: \tdataset: fashion_mnist\n",
            "\u001b[34m\u001b[1mwandb\u001b[0m: \tepochs: 5\n",
            "\u001b[34m\u001b[1mwandb\u001b[0m: \tepsilon: 1e-08\n",
            "\u001b[34m\u001b[1mwandb\u001b[0m: \thidden_layer_size: 128\n",
            "\u001b[34m\u001b[1mwandb\u001b[0m: \thidden_layers: 4\n",
            "\u001b[34m\u001b[1mwandb\u001b[0m: \tinitialiser: Xaviar\n",
            "\u001b[34m\u001b[1mwandb\u001b[0m: \tinput_size: 784\n",
            "\u001b[34m\u001b[1mwandb\u001b[0m: \tlearning_rate: 0.0005\n",
            "\u001b[34m\u001b[1mwandb\u001b[0m: \tloss_type: cross_entropy\n",
            "\u001b[34m\u001b[1mwandb\u001b[0m: \tmomentum: 0.9\n",
            "\u001b[34m\u001b[1mwandb\u001b[0m: \toptimizer: nag\n",
            "\u001b[34m\u001b[1mwandb\u001b[0m: \toutput_size: 10\n",
            "\u001b[34m\u001b[1mwandb\u001b[0m: \tweight_decay: 0\n",
            "\u001b[34m\u001b[1mwandb\u001b[0m: \u001b[33mWARNING\u001b[0m Ignored wandb.init() arg project when running a sweep.\n"
          ]
        },
        {
          "output_type": "display_data",
          "data": {
            "text/plain": [
              "<IPython.core.display.HTML object>"
            ],
            "text/html": [
              "Tracking run with wandb version 0.16.4"
            ]
          },
          "metadata": {}
        },
        {
          "output_type": "display_data",
          "data": {
            "text/plain": [
              "<IPython.core.display.HTML object>"
            ],
            "text/html": [
              "Run data is saved locally in <code>/content/wandb/run-20240315_172936-9prm94to</code>"
            ]
          },
          "metadata": {}
        },
        {
          "output_type": "display_data",
          "data": {
            "text/plain": [
              "<IPython.core.display.HTML object>"
            ],
            "text/html": [
              "Syncing run <strong><a href='https://wandb.ai/ml_panda/DL_assignment_1/runs/9prm94to' target=\"_blank\">solar-sweep-5</a></strong> to <a href='https://wandb.ai/ml_panda/DL_assignment_1' target=\"_blank\">Weights & Biases</a> (<a href='https://wandb.me/run' target=\"_blank\">docs</a>)<br/>Sweep page: <a href='https://wandb.ai/ml_panda/DL_assignment_1/sweeps/6ahxc55b' target=\"_blank\">https://wandb.ai/ml_panda/DL_assignment_1/sweeps/6ahxc55b</a>"
            ]
          },
          "metadata": {}
        },
        {
          "output_type": "display_data",
          "data": {
            "text/plain": [
              "<IPython.core.display.HTML object>"
            ],
            "text/html": [
              " View project at <a href='https://wandb.ai/ml_panda/DL_assignment_1' target=\"_blank\">https://wandb.ai/ml_panda/DL_assignment_1</a>"
            ]
          },
          "metadata": {}
        },
        {
          "output_type": "display_data",
          "data": {
            "text/plain": [
              "<IPython.core.display.HTML object>"
            ],
            "text/html": [
              " View sweep at <a href='https://wandb.ai/ml_panda/DL_assignment_1/sweeps/6ahxc55b' target=\"_blank\">https://wandb.ai/ml_panda/DL_assignment_1/sweeps/6ahxc55b</a>"
            ]
          },
          "metadata": {}
        },
        {
          "output_type": "display_data",
          "data": {
            "text/plain": [
              "<IPython.core.display.HTML object>"
            ],
            "text/html": [
              " View run at <a href='https://wandb.ai/ml_panda/DL_assignment_1/runs/9prm94to' target=\"_blank\">https://wandb.ai/ml_panda/DL_assignment_1/runs/9prm94to</a>"
            ]
          },
          "metadata": {}
        },
        {
          "output_type": "stream",
          "name": "stdout",
          "text": [
            "Epoch : 1 Loss : 2.2974484401286257 Accuracy : 15.844444444444445\n",
            "------------------------------------------------------------------------------------------------------------------------------\n",
            "            Validation  Loss : 2.2971684611362875 Accuracy : 16.650000000000002\n",
            "===============================================================================================================================\n",
            "Epoch : 2 Loss : 2.2868555221809626 Accuracy : 22.39814814814815\n",
            "------------------------------------------------------------------------------------------------------------------------------\n",
            "            Validation  Loss : 2.2866427096744606 Accuracy : 22.616666666666667\n",
            "===============================================================================================================================\n",
            "Epoch : 3 Loss : 2.274552472313866 Accuracy : 28.379629629629626\n",
            "------------------------------------------------------------------------------------------------------------------------------\n",
            "            Validation  Loss : 2.274419736057582 Accuracy : 28.866666666666667\n",
            "===============================================================================================================================\n",
            "Epoch : 4 Loss : 2.2593999713935284 Accuracy : 30.866666666666664\n",
            "------------------------------------------------------------------------------------------------------------------------------\n",
            "            Validation  Loss : 2.2593682486161226 Accuracy : 31.433333333333337\n",
            "===============================================================================================================================\n",
            "Epoch : 5 Loss : 2.2397905258943234 Accuracy : 31.418518518518518\n",
            "------------------------------------------------------------------------------------------------------------------------------\n",
            "            Validation  Loss : 2.239894296142053 Accuracy : 32.03333333333334\n",
            "===============================================================================================================================\n"
          ]
        },
        {
          "output_type": "display_data",
          "data": {
            "text/plain": [
              "VBox(children=(Label(value='0.001 MB of 0.001 MB uploaded\\r'), FloatProgress(value=1.0, max=1.0)))"
            ],
            "application/vnd.jupyter.widget-view+json": {
              "version_major": 2,
              "version_minor": 0,
              "model_id": "10cef5c217f14912b7457ad75165f867"
            }
          },
          "metadata": {}
        },
        {
          "output_type": "display_data",
          "data": {
            "text/plain": [
              "<IPython.core.display.HTML object>"
            ],
            "text/html": [
              "<style>\n",
              "    table.wandb td:nth-child(1) { padding: 0 10px; text-align: left ; width: auto;} td:nth-child(2) {text-align: left ; width: 100%}\n",
              "    .wandb-row { display: flex; flex-direction: row; flex-wrap: wrap; justify-content: flex-start; width: 100% }\n",
              "    .wandb-col { display: flex; flex-direction: column; flex-basis: 100%; flex: 1; padding: 10px; }\n",
              "    </style>\n",
              "<div class=\"wandb-row\"><div class=\"wandb-col\"><h3>Run history:</h3><br/><table class=\"wandb\"><tr><td>Accuracy</td><td>▁</td></tr><tr><td>epoch</td><td>▁▃▅▆█</td></tr><tr><td>train_accuracy</td><td>▁▄▇██</td></tr><tr><td>train_loss</td><td>█▇▅▃▁</td></tr><tr><td>val_accuracy</td><td>▁▄▇██</td></tr><tr><td>val_loss</td><td>█▇▅▃▁</td></tr></table><br/></div><div class=\"wandb-col\"><h3>Run summary:</h3><br/><table class=\"wandb\"><tr><td>Accuracy</td><td>32.03333</td></tr><tr><td>epoch</td><td>5</td></tr><tr><td>train_accuracy</td><td>32.03333</td></tr><tr><td>train_loss</td><td>2.23989</td></tr><tr><td>val_accuracy</td><td>32.03333</td></tr><tr><td>val_loss</td><td>2.23989</td></tr></table><br/></div></div>"
            ]
          },
          "metadata": {}
        },
        {
          "output_type": "display_data",
          "data": {
            "text/plain": [
              "<IPython.core.display.HTML object>"
            ],
            "text/html": [
              " View run <strong style=\"color:#cdcd00\">solar-sweep-5</strong> at: <a href='https://wandb.ai/ml_panda/DL_assignment_1/runs/9prm94to' target=\"_blank\">https://wandb.ai/ml_panda/DL_assignment_1/runs/9prm94to</a><br/>Synced 5 W&B file(s), 0 media file(s), 0 artifact file(s) and 0 other file(s)"
            ]
          },
          "metadata": {}
        },
        {
          "output_type": "display_data",
          "data": {
            "text/plain": [
              "<IPython.core.display.HTML object>"
            ],
            "text/html": [
              "Find logs at: <code>./wandb/run-20240315_172936-9prm94to/logs</code>"
            ]
          },
          "metadata": {}
        }
      ],
      "source": [
        "sweep_id = wandb.sweep(sweep_config, project = 'DL_Assignment_1')\n",
        "wandb.agent(sweep_id, main, count = 5)\n",
        "wandb.finish()"
      ]
    },
    {
      "cell_type": "code",
      "execution_count": null,
      "metadata": {
        "id": "87gPYF9KXCoH"
      },
      "outputs": [],
      "source": []
    }
  ],
  "metadata": {
    "colab": {
      "gpuType": "T4",
      "provenance": [],
      "authorship_tag": "ABX9TyMOSY5PZoU6nG+1XpgeISXK",
      "include_colab_link": true
    },
    "kernelspec": {
      "display_name": "Python 3",
      "name": "python3"
    },
    "language_info": {
      "name": "python"
    },
    "widgets": {
      "application/vnd.jupyter.widget-state+json": {
        "c66d93bec6eb498b869762e33c170ed3": {
          "model_module": "@jupyter-widgets/controls",
          "model_name": "VBoxModel",
          "model_module_version": "1.5.0",
          "state": {
            "_dom_classes": [],
            "_model_module": "@jupyter-widgets/controls",
            "_model_module_version": "1.5.0",
            "_model_name": "VBoxModel",
            "_view_count": null,
            "_view_module": "@jupyter-widgets/controls",
            "_view_module_version": "1.5.0",
            "_view_name": "VBoxView",
            "box_style": "",
            "children": [
              "IPY_MODEL_941e816ac62c4a098c1635a9ecb22897",
              "IPY_MODEL_9b63d8169d5a49a2a9d012d6606e4f84"
            ],
            "layout": "IPY_MODEL_75a4447730c346ea8afa83f48724ddaa"
          }
        },
        "941e816ac62c4a098c1635a9ecb22897": {
          "model_module": "@jupyter-widgets/controls",
          "model_name": "LabelModel",
          "model_module_version": "1.5.0",
          "state": {
            "_dom_classes": [],
            "_model_module": "@jupyter-widgets/controls",
            "_model_module_version": "1.5.0",
            "_model_name": "LabelModel",
            "_view_count": null,
            "_view_module": "@jupyter-widgets/controls",
            "_view_module_version": "1.5.0",
            "_view_name": "LabelView",
            "description": "",
            "description_tooltip": null,
            "layout": "IPY_MODEL_148e0cbf8dad475d8ea7aa34dde46e13",
            "placeholder": "​",
            "style": "IPY_MODEL_a3fb09669bac478db154c852765f74db",
            "value": "0.013 MB of 0.013 MB uploaded\r"
          }
        },
        "9b63d8169d5a49a2a9d012d6606e4f84": {
          "model_module": "@jupyter-widgets/controls",
          "model_name": "FloatProgressModel",
          "model_module_version": "1.5.0",
          "state": {
            "_dom_classes": [],
            "_model_module": "@jupyter-widgets/controls",
            "_model_module_version": "1.5.0",
            "_model_name": "FloatProgressModel",
            "_view_count": null,
            "_view_module": "@jupyter-widgets/controls",
            "_view_module_version": "1.5.0",
            "_view_name": "ProgressView",
            "bar_style": "",
            "description": "",
            "description_tooltip": null,
            "layout": "IPY_MODEL_50e958aba4154099ab291ce198933947",
            "max": 1,
            "min": 0,
            "orientation": "horizontal",
            "style": "IPY_MODEL_375dade11699481db6b76bc1a2b63c71",
            "value": 1
          }
        },
        "75a4447730c346ea8afa83f48724ddaa": {
          "model_module": "@jupyter-widgets/base",
          "model_name": "LayoutModel",
          "model_module_version": "1.2.0",
          "state": {
            "_model_module": "@jupyter-widgets/base",
            "_model_module_version": "1.2.0",
            "_model_name": "LayoutModel",
            "_view_count": null,
            "_view_module": "@jupyter-widgets/base",
            "_view_module_version": "1.2.0",
            "_view_name": "LayoutView",
            "align_content": null,
            "align_items": null,
            "align_self": null,
            "border": null,
            "bottom": null,
            "display": null,
            "flex": null,
            "flex_flow": null,
            "grid_area": null,
            "grid_auto_columns": null,
            "grid_auto_flow": null,
            "grid_auto_rows": null,
            "grid_column": null,
            "grid_gap": null,
            "grid_row": null,
            "grid_template_areas": null,
            "grid_template_columns": null,
            "grid_template_rows": null,
            "height": null,
            "justify_content": null,
            "justify_items": null,
            "left": null,
            "margin": null,
            "max_height": null,
            "max_width": null,
            "min_height": null,
            "min_width": null,
            "object_fit": null,
            "object_position": null,
            "order": null,
            "overflow": null,
            "overflow_x": null,
            "overflow_y": null,
            "padding": null,
            "right": null,
            "top": null,
            "visibility": null,
            "width": null
          }
        },
        "148e0cbf8dad475d8ea7aa34dde46e13": {
          "model_module": "@jupyter-widgets/base",
          "model_name": "LayoutModel",
          "model_module_version": "1.2.0",
          "state": {
            "_model_module": "@jupyter-widgets/base",
            "_model_module_version": "1.2.0",
            "_model_name": "LayoutModel",
            "_view_count": null,
            "_view_module": "@jupyter-widgets/base",
            "_view_module_version": "1.2.0",
            "_view_name": "LayoutView",
            "align_content": null,
            "align_items": null,
            "align_self": null,
            "border": null,
            "bottom": null,
            "display": null,
            "flex": null,
            "flex_flow": null,
            "grid_area": null,
            "grid_auto_columns": null,
            "grid_auto_flow": null,
            "grid_auto_rows": null,
            "grid_column": null,
            "grid_gap": null,
            "grid_row": null,
            "grid_template_areas": null,
            "grid_template_columns": null,
            "grid_template_rows": null,
            "height": null,
            "justify_content": null,
            "justify_items": null,
            "left": null,
            "margin": null,
            "max_height": null,
            "max_width": null,
            "min_height": null,
            "min_width": null,
            "object_fit": null,
            "object_position": null,
            "order": null,
            "overflow": null,
            "overflow_x": null,
            "overflow_y": null,
            "padding": null,
            "right": null,
            "top": null,
            "visibility": null,
            "width": null
          }
        },
        "a3fb09669bac478db154c852765f74db": {
          "model_module": "@jupyter-widgets/controls",
          "model_name": "DescriptionStyleModel",
          "model_module_version": "1.5.0",
          "state": {
            "_model_module": "@jupyter-widgets/controls",
            "_model_module_version": "1.5.0",
            "_model_name": "DescriptionStyleModel",
            "_view_count": null,
            "_view_module": "@jupyter-widgets/base",
            "_view_module_version": "1.2.0",
            "_view_name": "StyleView",
            "description_width": ""
          }
        },
        "50e958aba4154099ab291ce198933947": {
          "model_module": "@jupyter-widgets/base",
          "model_name": "LayoutModel",
          "model_module_version": "1.2.0",
          "state": {
            "_model_module": "@jupyter-widgets/base",
            "_model_module_version": "1.2.0",
            "_model_name": "LayoutModel",
            "_view_count": null,
            "_view_module": "@jupyter-widgets/base",
            "_view_module_version": "1.2.0",
            "_view_name": "LayoutView",
            "align_content": null,
            "align_items": null,
            "align_self": null,
            "border": null,
            "bottom": null,
            "display": null,
            "flex": null,
            "flex_flow": null,
            "grid_area": null,
            "grid_auto_columns": null,
            "grid_auto_flow": null,
            "grid_auto_rows": null,
            "grid_column": null,
            "grid_gap": null,
            "grid_row": null,
            "grid_template_areas": null,
            "grid_template_columns": null,
            "grid_template_rows": null,
            "height": null,
            "justify_content": null,
            "justify_items": null,
            "left": null,
            "margin": null,
            "max_height": null,
            "max_width": null,
            "min_height": null,
            "min_width": null,
            "object_fit": null,
            "object_position": null,
            "order": null,
            "overflow": null,
            "overflow_x": null,
            "overflow_y": null,
            "padding": null,
            "right": null,
            "top": null,
            "visibility": null,
            "width": null
          }
        },
        "375dade11699481db6b76bc1a2b63c71": {
          "model_module": "@jupyter-widgets/controls",
          "model_name": "ProgressStyleModel",
          "model_module_version": "1.5.0",
          "state": {
            "_model_module": "@jupyter-widgets/controls",
            "_model_module_version": "1.5.0",
            "_model_name": "ProgressStyleModel",
            "_view_count": null,
            "_view_module": "@jupyter-widgets/base",
            "_view_module_version": "1.2.0",
            "_view_name": "StyleView",
            "bar_color": null,
            "description_width": ""
          }
        },
        "454492e92c774ee1a72763bf88c6a57e": {
          "model_module": "@jupyter-widgets/controls",
          "model_name": "VBoxModel",
          "model_module_version": "1.5.0",
          "state": {
            "_dom_classes": [],
            "_model_module": "@jupyter-widgets/controls",
            "_model_module_version": "1.5.0",
            "_model_name": "VBoxModel",
            "_view_count": null,
            "_view_module": "@jupyter-widgets/controls",
            "_view_module_version": "1.5.0",
            "_view_name": "VBoxView",
            "box_style": "",
            "children": [
              "IPY_MODEL_aba560e0e330497bb6390c9e3ca7eeae",
              "IPY_MODEL_815798cff6414173954708dca616f3f7"
            ],
            "layout": "IPY_MODEL_ae4c94b8dccf49f7ac3ad6ee37066469"
          }
        },
        "aba560e0e330497bb6390c9e3ca7eeae": {
          "model_module": "@jupyter-widgets/controls",
          "model_name": "LabelModel",
          "model_module_version": "1.5.0",
          "state": {
            "_dom_classes": [],
            "_model_module": "@jupyter-widgets/controls",
            "_model_module_version": "1.5.0",
            "_model_name": "LabelModel",
            "_view_count": null,
            "_view_module": "@jupyter-widgets/controls",
            "_view_module_version": "1.5.0",
            "_view_name": "LabelView",
            "description": "",
            "description_tooltip": null,
            "layout": "IPY_MODEL_64c0bcf74dea445a85299b88d1da59f3",
            "placeholder": "​",
            "style": "IPY_MODEL_ddd421385c0048e2954631df8d4d6ee8",
            "value": "0.015 MB of 0.015 MB uploaded\r"
          }
        },
        "815798cff6414173954708dca616f3f7": {
          "model_module": "@jupyter-widgets/controls",
          "model_name": "FloatProgressModel",
          "model_module_version": "1.5.0",
          "state": {
            "_dom_classes": [],
            "_model_module": "@jupyter-widgets/controls",
            "_model_module_version": "1.5.0",
            "_model_name": "FloatProgressModel",
            "_view_count": null,
            "_view_module": "@jupyter-widgets/controls",
            "_view_module_version": "1.5.0",
            "_view_name": "ProgressView",
            "bar_style": "",
            "description": "",
            "description_tooltip": null,
            "layout": "IPY_MODEL_85f3dd3c66f643959887c975ff070302",
            "max": 1,
            "min": 0,
            "orientation": "horizontal",
            "style": "IPY_MODEL_9add50363b7d4d28959af5368c3efe48",
            "value": 1
          }
        },
        "ae4c94b8dccf49f7ac3ad6ee37066469": {
          "model_module": "@jupyter-widgets/base",
          "model_name": "LayoutModel",
          "model_module_version": "1.2.0",
          "state": {
            "_model_module": "@jupyter-widgets/base",
            "_model_module_version": "1.2.0",
            "_model_name": "LayoutModel",
            "_view_count": null,
            "_view_module": "@jupyter-widgets/base",
            "_view_module_version": "1.2.0",
            "_view_name": "LayoutView",
            "align_content": null,
            "align_items": null,
            "align_self": null,
            "border": null,
            "bottom": null,
            "display": null,
            "flex": null,
            "flex_flow": null,
            "grid_area": null,
            "grid_auto_columns": null,
            "grid_auto_flow": null,
            "grid_auto_rows": null,
            "grid_column": null,
            "grid_gap": null,
            "grid_row": null,
            "grid_template_areas": null,
            "grid_template_columns": null,
            "grid_template_rows": null,
            "height": null,
            "justify_content": null,
            "justify_items": null,
            "left": null,
            "margin": null,
            "max_height": null,
            "max_width": null,
            "min_height": null,
            "min_width": null,
            "object_fit": null,
            "object_position": null,
            "order": null,
            "overflow": null,
            "overflow_x": null,
            "overflow_y": null,
            "padding": null,
            "right": null,
            "top": null,
            "visibility": null,
            "width": null
          }
        },
        "64c0bcf74dea445a85299b88d1da59f3": {
          "model_module": "@jupyter-widgets/base",
          "model_name": "LayoutModel",
          "model_module_version": "1.2.0",
          "state": {
            "_model_module": "@jupyter-widgets/base",
            "_model_module_version": "1.2.0",
            "_model_name": "LayoutModel",
            "_view_count": null,
            "_view_module": "@jupyter-widgets/base",
            "_view_module_version": "1.2.0",
            "_view_name": "LayoutView",
            "align_content": null,
            "align_items": null,
            "align_self": null,
            "border": null,
            "bottom": null,
            "display": null,
            "flex": null,
            "flex_flow": null,
            "grid_area": null,
            "grid_auto_columns": null,
            "grid_auto_flow": null,
            "grid_auto_rows": null,
            "grid_column": null,
            "grid_gap": null,
            "grid_row": null,
            "grid_template_areas": null,
            "grid_template_columns": null,
            "grid_template_rows": null,
            "height": null,
            "justify_content": null,
            "justify_items": null,
            "left": null,
            "margin": null,
            "max_height": null,
            "max_width": null,
            "min_height": null,
            "min_width": null,
            "object_fit": null,
            "object_position": null,
            "order": null,
            "overflow": null,
            "overflow_x": null,
            "overflow_y": null,
            "padding": null,
            "right": null,
            "top": null,
            "visibility": null,
            "width": null
          }
        },
        "ddd421385c0048e2954631df8d4d6ee8": {
          "model_module": "@jupyter-widgets/controls",
          "model_name": "DescriptionStyleModel",
          "model_module_version": "1.5.0",
          "state": {
            "_model_module": "@jupyter-widgets/controls",
            "_model_module_version": "1.5.0",
            "_model_name": "DescriptionStyleModel",
            "_view_count": null,
            "_view_module": "@jupyter-widgets/base",
            "_view_module_version": "1.2.0",
            "_view_name": "StyleView",
            "description_width": ""
          }
        },
        "85f3dd3c66f643959887c975ff070302": {
          "model_module": "@jupyter-widgets/base",
          "model_name": "LayoutModel",
          "model_module_version": "1.2.0",
          "state": {
            "_model_module": "@jupyter-widgets/base",
            "_model_module_version": "1.2.0",
            "_model_name": "LayoutModel",
            "_view_count": null,
            "_view_module": "@jupyter-widgets/base",
            "_view_module_version": "1.2.0",
            "_view_name": "LayoutView",
            "align_content": null,
            "align_items": null,
            "align_self": null,
            "border": null,
            "bottom": null,
            "display": null,
            "flex": null,
            "flex_flow": null,
            "grid_area": null,
            "grid_auto_columns": null,
            "grid_auto_flow": null,
            "grid_auto_rows": null,
            "grid_column": null,
            "grid_gap": null,
            "grid_row": null,
            "grid_template_areas": null,
            "grid_template_columns": null,
            "grid_template_rows": null,
            "height": null,
            "justify_content": null,
            "justify_items": null,
            "left": null,
            "margin": null,
            "max_height": null,
            "max_width": null,
            "min_height": null,
            "min_width": null,
            "object_fit": null,
            "object_position": null,
            "order": null,
            "overflow": null,
            "overflow_x": null,
            "overflow_y": null,
            "padding": null,
            "right": null,
            "top": null,
            "visibility": null,
            "width": null
          }
        },
        "9add50363b7d4d28959af5368c3efe48": {
          "model_module": "@jupyter-widgets/controls",
          "model_name": "ProgressStyleModel",
          "model_module_version": "1.5.0",
          "state": {
            "_model_module": "@jupyter-widgets/controls",
            "_model_module_version": "1.5.0",
            "_model_name": "ProgressStyleModel",
            "_view_count": null,
            "_view_module": "@jupyter-widgets/base",
            "_view_module_version": "1.2.0",
            "_view_name": "StyleView",
            "bar_color": null,
            "description_width": ""
          }
        },
        "fbc404d134e84dae8d9e946b0fe18679": {
          "model_module": "@jupyter-widgets/controls",
          "model_name": "VBoxModel",
          "model_module_version": "1.5.0",
          "state": {
            "_dom_classes": [],
            "_model_module": "@jupyter-widgets/controls",
            "_model_module_version": "1.5.0",
            "_model_name": "VBoxModel",
            "_view_count": null,
            "_view_module": "@jupyter-widgets/controls",
            "_view_module_version": "1.5.0",
            "_view_name": "VBoxView",
            "box_style": "",
            "children": [
              "IPY_MODEL_99e9239c85544d528f4a49ccd529ac0f",
              "IPY_MODEL_bbed4e88486948e396495d04e0466040"
            ],
            "layout": "IPY_MODEL_4a7a767116734fc0933dcf1d8d26a0d5"
          }
        },
        "99e9239c85544d528f4a49ccd529ac0f": {
          "model_module": "@jupyter-widgets/controls",
          "model_name": "LabelModel",
          "model_module_version": "1.5.0",
          "state": {
            "_dom_classes": [],
            "_model_module": "@jupyter-widgets/controls",
            "_model_module_version": "1.5.0",
            "_model_name": "LabelModel",
            "_view_count": null,
            "_view_module": "@jupyter-widgets/controls",
            "_view_module_version": "1.5.0",
            "_view_name": "LabelView",
            "description": "",
            "description_tooltip": null,
            "layout": "IPY_MODEL_ef7515e4f8ee43349a6d2325a6b35cc3",
            "placeholder": "​",
            "style": "IPY_MODEL_3a6372db6589415bb78bcb6874218624",
            "value": "0.015 MB of 0.015 MB uploaded\r"
          }
        },
        "bbed4e88486948e396495d04e0466040": {
          "model_module": "@jupyter-widgets/controls",
          "model_name": "FloatProgressModel",
          "model_module_version": "1.5.0",
          "state": {
            "_dom_classes": [],
            "_model_module": "@jupyter-widgets/controls",
            "_model_module_version": "1.5.0",
            "_model_name": "FloatProgressModel",
            "_view_count": null,
            "_view_module": "@jupyter-widgets/controls",
            "_view_module_version": "1.5.0",
            "_view_name": "ProgressView",
            "bar_style": "",
            "description": "",
            "description_tooltip": null,
            "layout": "IPY_MODEL_6585a5f2e92d401d8e5e6600f32dfbc7",
            "max": 1,
            "min": 0,
            "orientation": "horizontal",
            "style": "IPY_MODEL_4b1c2ad4d2a1482daea4fcc5572774b2",
            "value": 1
          }
        },
        "4a7a767116734fc0933dcf1d8d26a0d5": {
          "model_module": "@jupyter-widgets/base",
          "model_name": "LayoutModel",
          "model_module_version": "1.2.0",
          "state": {
            "_model_module": "@jupyter-widgets/base",
            "_model_module_version": "1.2.0",
            "_model_name": "LayoutModel",
            "_view_count": null,
            "_view_module": "@jupyter-widgets/base",
            "_view_module_version": "1.2.0",
            "_view_name": "LayoutView",
            "align_content": null,
            "align_items": null,
            "align_self": null,
            "border": null,
            "bottom": null,
            "display": null,
            "flex": null,
            "flex_flow": null,
            "grid_area": null,
            "grid_auto_columns": null,
            "grid_auto_flow": null,
            "grid_auto_rows": null,
            "grid_column": null,
            "grid_gap": null,
            "grid_row": null,
            "grid_template_areas": null,
            "grid_template_columns": null,
            "grid_template_rows": null,
            "height": null,
            "justify_content": null,
            "justify_items": null,
            "left": null,
            "margin": null,
            "max_height": null,
            "max_width": null,
            "min_height": null,
            "min_width": null,
            "object_fit": null,
            "object_position": null,
            "order": null,
            "overflow": null,
            "overflow_x": null,
            "overflow_y": null,
            "padding": null,
            "right": null,
            "top": null,
            "visibility": null,
            "width": null
          }
        },
        "ef7515e4f8ee43349a6d2325a6b35cc3": {
          "model_module": "@jupyter-widgets/base",
          "model_name": "LayoutModel",
          "model_module_version": "1.2.0",
          "state": {
            "_model_module": "@jupyter-widgets/base",
            "_model_module_version": "1.2.0",
            "_model_name": "LayoutModel",
            "_view_count": null,
            "_view_module": "@jupyter-widgets/base",
            "_view_module_version": "1.2.0",
            "_view_name": "LayoutView",
            "align_content": null,
            "align_items": null,
            "align_self": null,
            "border": null,
            "bottom": null,
            "display": null,
            "flex": null,
            "flex_flow": null,
            "grid_area": null,
            "grid_auto_columns": null,
            "grid_auto_flow": null,
            "grid_auto_rows": null,
            "grid_column": null,
            "grid_gap": null,
            "grid_row": null,
            "grid_template_areas": null,
            "grid_template_columns": null,
            "grid_template_rows": null,
            "height": null,
            "justify_content": null,
            "justify_items": null,
            "left": null,
            "margin": null,
            "max_height": null,
            "max_width": null,
            "min_height": null,
            "min_width": null,
            "object_fit": null,
            "object_position": null,
            "order": null,
            "overflow": null,
            "overflow_x": null,
            "overflow_y": null,
            "padding": null,
            "right": null,
            "top": null,
            "visibility": null,
            "width": null
          }
        },
        "3a6372db6589415bb78bcb6874218624": {
          "model_module": "@jupyter-widgets/controls",
          "model_name": "DescriptionStyleModel",
          "model_module_version": "1.5.0",
          "state": {
            "_model_module": "@jupyter-widgets/controls",
            "_model_module_version": "1.5.0",
            "_model_name": "DescriptionStyleModel",
            "_view_count": null,
            "_view_module": "@jupyter-widgets/base",
            "_view_module_version": "1.2.0",
            "_view_name": "StyleView",
            "description_width": ""
          }
        },
        "6585a5f2e92d401d8e5e6600f32dfbc7": {
          "model_module": "@jupyter-widgets/base",
          "model_name": "LayoutModel",
          "model_module_version": "1.2.0",
          "state": {
            "_model_module": "@jupyter-widgets/base",
            "_model_module_version": "1.2.0",
            "_model_name": "LayoutModel",
            "_view_count": null,
            "_view_module": "@jupyter-widgets/base",
            "_view_module_version": "1.2.0",
            "_view_name": "LayoutView",
            "align_content": null,
            "align_items": null,
            "align_self": null,
            "border": null,
            "bottom": null,
            "display": null,
            "flex": null,
            "flex_flow": null,
            "grid_area": null,
            "grid_auto_columns": null,
            "grid_auto_flow": null,
            "grid_auto_rows": null,
            "grid_column": null,
            "grid_gap": null,
            "grid_row": null,
            "grid_template_areas": null,
            "grid_template_columns": null,
            "grid_template_rows": null,
            "height": null,
            "justify_content": null,
            "justify_items": null,
            "left": null,
            "margin": null,
            "max_height": null,
            "max_width": null,
            "min_height": null,
            "min_width": null,
            "object_fit": null,
            "object_position": null,
            "order": null,
            "overflow": null,
            "overflow_x": null,
            "overflow_y": null,
            "padding": null,
            "right": null,
            "top": null,
            "visibility": null,
            "width": null
          }
        },
        "4b1c2ad4d2a1482daea4fcc5572774b2": {
          "model_module": "@jupyter-widgets/controls",
          "model_name": "ProgressStyleModel",
          "model_module_version": "1.5.0",
          "state": {
            "_model_module": "@jupyter-widgets/controls",
            "_model_module_version": "1.5.0",
            "_model_name": "ProgressStyleModel",
            "_view_count": null,
            "_view_module": "@jupyter-widgets/base",
            "_view_module_version": "1.2.0",
            "_view_name": "StyleView",
            "bar_color": null,
            "description_width": ""
          }
        },
        "4584bc099c2c4bf58c23142e4360fc35": {
          "model_module": "@jupyter-widgets/controls",
          "model_name": "VBoxModel",
          "model_module_version": "1.5.0",
          "state": {
            "_dom_classes": [],
            "_model_module": "@jupyter-widgets/controls",
            "_model_module_version": "1.5.0",
            "_model_name": "VBoxModel",
            "_view_count": null,
            "_view_module": "@jupyter-widgets/controls",
            "_view_module_version": "1.5.0",
            "_view_name": "VBoxView",
            "box_style": "",
            "children": [
              "IPY_MODEL_4f514fb75fe34bc8b1c74a56bc3f2c68",
              "IPY_MODEL_b05f19b331ab4a58abf8b2880ecf35ef"
            ],
            "layout": "IPY_MODEL_327f20b92d2b41aaa2892b69ce7487f8"
          }
        },
        "4f514fb75fe34bc8b1c74a56bc3f2c68": {
          "model_module": "@jupyter-widgets/controls",
          "model_name": "LabelModel",
          "model_module_version": "1.5.0",
          "state": {
            "_dom_classes": [],
            "_model_module": "@jupyter-widgets/controls",
            "_model_module_version": "1.5.0",
            "_model_name": "LabelModel",
            "_view_count": null,
            "_view_module": "@jupyter-widgets/controls",
            "_view_module_version": "1.5.0",
            "_view_name": "LabelView",
            "description": "",
            "description_tooltip": null,
            "layout": "IPY_MODEL_35fb11b682964b85a130528b21416cd0",
            "placeholder": "​",
            "style": "IPY_MODEL_b421ec7295ed43c39cf35538d09cbd59",
            "value": "0.015 MB of 0.015 MB uploaded\r"
          }
        },
        "b05f19b331ab4a58abf8b2880ecf35ef": {
          "model_module": "@jupyter-widgets/controls",
          "model_name": "FloatProgressModel",
          "model_module_version": "1.5.0",
          "state": {
            "_dom_classes": [],
            "_model_module": "@jupyter-widgets/controls",
            "_model_module_version": "1.5.0",
            "_model_name": "FloatProgressModel",
            "_view_count": null,
            "_view_module": "@jupyter-widgets/controls",
            "_view_module_version": "1.5.0",
            "_view_name": "ProgressView",
            "bar_style": "",
            "description": "",
            "description_tooltip": null,
            "layout": "IPY_MODEL_f4bca29bf5ba4de684852cb59cd3cda1",
            "max": 1,
            "min": 0,
            "orientation": "horizontal",
            "style": "IPY_MODEL_16fda7f3bb2048ef9b0be406a07064c5",
            "value": 1
          }
        },
        "327f20b92d2b41aaa2892b69ce7487f8": {
          "model_module": "@jupyter-widgets/base",
          "model_name": "LayoutModel",
          "model_module_version": "1.2.0",
          "state": {
            "_model_module": "@jupyter-widgets/base",
            "_model_module_version": "1.2.0",
            "_model_name": "LayoutModel",
            "_view_count": null,
            "_view_module": "@jupyter-widgets/base",
            "_view_module_version": "1.2.0",
            "_view_name": "LayoutView",
            "align_content": null,
            "align_items": null,
            "align_self": null,
            "border": null,
            "bottom": null,
            "display": null,
            "flex": null,
            "flex_flow": null,
            "grid_area": null,
            "grid_auto_columns": null,
            "grid_auto_flow": null,
            "grid_auto_rows": null,
            "grid_column": null,
            "grid_gap": null,
            "grid_row": null,
            "grid_template_areas": null,
            "grid_template_columns": null,
            "grid_template_rows": null,
            "height": null,
            "justify_content": null,
            "justify_items": null,
            "left": null,
            "margin": null,
            "max_height": null,
            "max_width": null,
            "min_height": null,
            "min_width": null,
            "object_fit": null,
            "object_position": null,
            "order": null,
            "overflow": null,
            "overflow_x": null,
            "overflow_y": null,
            "padding": null,
            "right": null,
            "top": null,
            "visibility": null,
            "width": null
          }
        },
        "35fb11b682964b85a130528b21416cd0": {
          "model_module": "@jupyter-widgets/base",
          "model_name": "LayoutModel",
          "model_module_version": "1.2.0",
          "state": {
            "_model_module": "@jupyter-widgets/base",
            "_model_module_version": "1.2.0",
            "_model_name": "LayoutModel",
            "_view_count": null,
            "_view_module": "@jupyter-widgets/base",
            "_view_module_version": "1.2.0",
            "_view_name": "LayoutView",
            "align_content": null,
            "align_items": null,
            "align_self": null,
            "border": null,
            "bottom": null,
            "display": null,
            "flex": null,
            "flex_flow": null,
            "grid_area": null,
            "grid_auto_columns": null,
            "grid_auto_flow": null,
            "grid_auto_rows": null,
            "grid_column": null,
            "grid_gap": null,
            "grid_row": null,
            "grid_template_areas": null,
            "grid_template_columns": null,
            "grid_template_rows": null,
            "height": null,
            "justify_content": null,
            "justify_items": null,
            "left": null,
            "margin": null,
            "max_height": null,
            "max_width": null,
            "min_height": null,
            "min_width": null,
            "object_fit": null,
            "object_position": null,
            "order": null,
            "overflow": null,
            "overflow_x": null,
            "overflow_y": null,
            "padding": null,
            "right": null,
            "top": null,
            "visibility": null,
            "width": null
          }
        },
        "b421ec7295ed43c39cf35538d09cbd59": {
          "model_module": "@jupyter-widgets/controls",
          "model_name": "DescriptionStyleModel",
          "model_module_version": "1.5.0",
          "state": {
            "_model_module": "@jupyter-widgets/controls",
            "_model_module_version": "1.5.0",
            "_model_name": "DescriptionStyleModel",
            "_view_count": null,
            "_view_module": "@jupyter-widgets/base",
            "_view_module_version": "1.2.0",
            "_view_name": "StyleView",
            "description_width": ""
          }
        },
        "f4bca29bf5ba4de684852cb59cd3cda1": {
          "model_module": "@jupyter-widgets/base",
          "model_name": "LayoutModel",
          "model_module_version": "1.2.0",
          "state": {
            "_model_module": "@jupyter-widgets/base",
            "_model_module_version": "1.2.0",
            "_model_name": "LayoutModel",
            "_view_count": null,
            "_view_module": "@jupyter-widgets/base",
            "_view_module_version": "1.2.0",
            "_view_name": "LayoutView",
            "align_content": null,
            "align_items": null,
            "align_self": null,
            "border": null,
            "bottom": null,
            "display": null,
            "flex": null,
            "flex_flow": null,
            "grid_area": null,
            "grid_auto_columns": null,
            "grid_auto_flow": null,
            "grid_auto_rows": null,
            "grid_column": null,
            "grid_gap": null,
            "grid_row": null,
            "grid_template_areas": null,
            "grid_template_columns": null,
            "grid_template_rows": null,
            "height": null,
            "justify_content": null,
            "justify_items": null,
            "left": null,
            "margin": null,
            "max_height": null,
            "max_width": null,
            "min_height": null,
            "min_width": null,
            "object_fit": null,
            "object_position": null,
            "order": null,
            "overflow": null,
            "overflow_x": null,
            "overflow_y": null,
            "padding": null,
            "right": null,
            "top": null,
            "visibility": null,
            "width": null
          }
        },
        "16fda7f3bb2048ef9b0be406a07064c5": {
          "model_module": "@jupyter-widgets/controls",
          "model_name": "ProgressStyleModel",
          "model_module_version": "1.5.0",
          "state": {
            "_model_module": "@jupyter-widgets/controls",
            "_model_module_version": "1.5.0",
            "_model_name": "ProgressStyleModel",
            "_view_count": null,
            "_view_module": "@jupyter-widgets/base",
            "_view_module_version": "1.2.0",
            "_view_name": "StyleView",
            "bar_color": null,
            "description_width": ""
          }
        },
        "10cef5c217f14912b7457ad75165f867": {
          "model_module": "@jupyter-widgets/controls",
          "model_name": "VBoxModel",
          "model_module_version": "1.5.0",
          "state": {
            "_dom_classes": [],
            "_model_module": "@jupyter-widgets/controls",
            "_model_module_version": "1.5.0",
            "_model_name": "VBoxModel",
            "_view_count": null,
            "_view_module": "@jupyter-widgets/controls",
            "_view_module_version": "1.5.0",
            "_view_name": "VBoxView",
            "box_style": "",
            "children": [
              "IPY_MODEL_c21ddabc61954ecd8bc24c6449f9e9b7",
              "IPY_MODEL_5f774734f1c24ce08b3bd74cf383187c"
            ],
            "layout": "IPY_MODEL_2ac62b529da047bcb4eaef3dbae523b6"
          }
        },
        "c21ddabc61954ecd8bc24c6449f9e9b7": {
          "model_module": "@jupyter-widgets/controls",
          "model_name": "LabelModel",
          "model_module_version": "1.5.0",
          "state": {
            "_dom_classes": [],
            "_model_module": "@jupyter-widgets/controls",
            "_model_module_version": "1.5.0",
            "_model_name": "LabelModel",
            "_view_count": null,
            "_view_module": "@jupyter-widgets/controls",
            "_view_module_version": "1.5.0",
            "_view_name": "LabelView",
            "description": "",
            "description_tooltip": null,
            "layout": "IPY_MODEL_c1c213ccc7a643bab0c7bce593c04eda",
            "placeholder": "​",
            "style": "IPY_MODEL_938679d4549e4d2fbb4e9fa2002ca386",
            "value": "0.013 MB of 0.013 MB uploaded\r"
          }
        },
        "5f774734f1c24ce08b3bd74cf383187c": {
          "model_module": "@jupyter-widgets/controls",
          "model_name": "FloatProgressModel",
          "model_module_version": "1.5.0",
          "state": {
            "_dom_classes": [],
            "_model_module": "@jupyter-widgets/controls",
            "_model_module_version": "1.5.0",
            "_model_name": "FloatProgressModel",
            "_view_count": null,
            "_view_module": "@jupyter-widgets/controls",
            "_view_module_version": "1.5.0",
            "_view_name": "ProgressView",
            "bar_style": "",
            "description": "",
            "description_tooltip": null,
            "layout": "IPY_MODEL_83e38afd6e3b44af871cabb755991e5c",
            "max": 1,
            "min": 0,
            "orientation": "horizontal",
            "style": "IPY_MODEL_bbf20faf57a84c9a8f3af3d15e348cc2",
            "value": 1
          }
        },
        "2ac62b529da047bcb4eaef3dbae523b6": {
          "model_module": "@jupyter-widgets/base",
          "model_name": "LayoutModel",
          "model_module_version": "1.2.0",
          "state": {
            "_model_module": "@jupyter-widgets/base",
            "_model_module_version": "1.2.0",
            "_model_name": "LayoutModel",
            "_view_count": null,
            "_view_module": "@jupyter-widgets/base",
            "_view_module_version": "1.2.0",
            "_view_name": "LayoutView",
            "align_content": null,
            "align_items": null,
            "align_self": null,
            "border": null,
            "bottom": null,
            "display": null,
            "flex": null,
            "flex_flow": null,
            "grid_area": null,
            "grid_auto_columns": null,
            "grid_auto_flow": null,
            "grid_auto_rows": null,
            "grid_column": null,
            "grid_gap": null,
            "grid_row": null,
            "grid_template_areas": null,
            "grid_template_columns": null,
            "grid_template_rows": null,
            "height": null,
            "justify_content": null,
            "justify_items": null,
            "left": null,
            "margin": null,
            "max_height": null,
            "max_width": null,
            "min_height": null,
            "min_width": null,
            "object_fit": null,
            "object_position": null,
            "order": null,
            "overflow": null,
            "overflow_x": null,
            "overflow_y": null,
            "padding": null,
            "right": null,
            "top": null,
            "visibility": null,
            "width": null
          }
        },
        "c1c213ccc7a643bab0c7bce593c04eda": {
          "model_module": "@jupyter-widgets/base",
          "model_name": "LayoutModel",
          "model_module_version": "1.2.0",
          "state": {
            "_model_module": "@jupyter-widgets/base",
            "_model_module_version": "1.2.0",
            "_model_name": "LayoutModel",
            "_view_count": null,
            "_view_module": "@jupyter-widgets/base",
            "_view_module_version": "1.2.0",
            "_view_name": "LayoutView",
            "align_content": null,
            "align_items": null,
            "align_self": null,
            "border": null,
            "bottom": null,
            "display": null,
            "flex": null,
            "flex_flow": null,
            "grid_area": null,
            "grid_auto_columns": null,
            "grid_auto_flow": null,
            "grid_auto_rows": null,
            "grid_column": null,
            "grid_gap": null,
            "grid_row": null,
            "grid_template_areas": null,
            "grid_template_columns": null,
            "grid_template_rows": null,
            "height": null,
            "justify_content": null,
            "justify_items": null,
            "left": null,
            "margin": null,
            "max_height": null,
            "max_width": null,
            "min_height": null,
            "min_width": null,
            "object_fit": null,
            "object_position": null,
            "order": null,
            "overflow": null,
            "overflow_x": null,
            "overflow_y": null,
            "padding": null,
            "right": null,
            "top": null,
            "visibility": null,
            "width": null
          }
        },
        "938679d4549e4d2fbb4e9fa2002ca386": {
          "model_module": "@jupyter-widgets/controls",
          "model_name": "DescriptionStyleModel",
          "model_module_version": "1.5.0",
          "state": {
            "_model_module": "@jupyter-widgets/controls",
            "_model_module_version": "1.5.0",
            "_model_name": "DescriptionStyleModel",
            "_view_count": null,
            "_view_module": "@jupyter-widgets/base",
            "_view_module_version": "1.2.0",
            "_view_name": "StyleView",
            "description_width": ""
          }
        },
        "83e38afd6e3b44af871cabb755991e5c": {
          "model_module": "@jupyter-widgets/base",
          "model_name": "LayoutModel",
          "model_module_version": "1.2.0",
          "state": {
            "_model_module": "@jupyter-widgets/base",
            "_model_module_version": "1.2.0",
            "_model_name": "LayoutModel",
            "_view_count": null,
            "_view_module": "@jupyter-widgets/base",
            "_view_module_version": "1.2.0",
            "_view_name": "LayoutView",
            "align_content": null,
            "align_items": null,
            "align_self": null,
            "border": null,
            "bottom": null,
            "display": null,
            "flex": null,
            "flex_flow": null,
            "grid_area": null,
            "grid_auto_columns": null,
            "grid_auto_flow": null,
            "grid_auto_rows": null,
            "grid_column": null,
            "grid_gap": null,
            "grid_row": null,
            "grid_template_areas": null,
            "grid_template_columns": null,
            "grid_template_rows": null,
            "height": null,
            "justify_content": null,
            "justify_items": null,
            "left": null,
            "margin": null,
            "max_height": null,
            "max_width": null,
            "min_height": null,
            "min_width": null,
            "object_fit": null,
            "object_position": null,
            "order": null,
            "overflow": null,
            "overflow_x": null,
            "overflow_y": null,
            "padding": null,
            "right": null,
            "top": null,
            "visibility": null,
            "width": null
          }
        },
        "bbf20faf57a84c9a8f3af3d15e348cc2": {
          "model_module": "@jupyter-widgets/controls",
          "model_name": "ProgressStyleModel",
          "model_module_version": "1.5.0",
          "state": {
            "_model_module": "@jupyter-widgets/controls",
            "_model_module_version": "1.5.0",
            "_model_name": "ProgressStyleModel",
            "_view_count": null,
            "_view_module": "@jupyter-widgets/base",
            "_view_module_version": "1.2.0",
            "_view_name": "StyleView",
            "bar_color": null,
            "description_width": ""
          }
        }
      }
    }
  },
  "nbformat": 4,
  "nbformat_minor": 0
}